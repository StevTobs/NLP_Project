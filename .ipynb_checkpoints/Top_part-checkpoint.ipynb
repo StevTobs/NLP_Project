{
 "cells": [
  {
   "cell_type": "code",
   "execution_count": 1,
   "metadata": {},
   "outputs": [],
   "source": [
    "\n",
    "# # uncomment if running from colab\n",
    "# !pip install https://github.com/PyThaiNLP/pythainlp/archive/dev.zip\n",
    "# !pip install epitran\n",
    "# !pip install sklearn_crfsuite"
   ]
  },
  {
   "cell_type": "code",
   "execution_count": 2,
   "metadata": {},
   "outputs": [],
   "source": [
    "from NLP_temporal_memory import *\n"
   ]
  },
  {
   "cell_type": "markdown",
   "metadata": {},
   "source": [
    "## Initial part"
   ]
  },
  {
   "cell_type": "code",
   "execution_count": 3,
   "metadata": {
    "scrolled": true
   },
   "outputs": [
    {
     "name": "stdout",
     "output_type": "stream",
     "text": [
      "userId:  U99648c35cb84f0ab7ca8e22bf2b375f7\n",
      "NLP Thai PEA is ready!!\n"
     ]
    }
   ],
   "source": [
    "# input parameters\n",
    "userId = \"U99648c35cb84f0ab7ca8e22bf2b375f7\"\n",
    "JS_timestamp_ms = 1589920755744\n",
    "message = \"ขออนุญาตสอบถามเรื่องติดตั้งหม้อแปลงที่จังหวัดนนทบุรีหน่อยครับ พรุ่งนี้จะต้องมีงานเลี้ยงด่วน\"\n",
    "\n",
    "NLP_TH_PEA = NLP_THAI_PEA( message, JS_timestamp_ms, userId)"
   ]
  },
  {
   "cell_type": "markdown",
   "metadata": {},
   "source": [
    "## Dataframs format"
   ]
  },
  {
   "cell_type": "code",
   "execution_count": 5,
   "metadata": {},
   "outputs": [
    {
     "data": {
      "text/plain": [
       "['สอบถาม', 'ติดตั้ง', 'ครับ', 'มี']"
      ]
     },
     "execution_count": 5,
     "metadata": {},
     "output_type": "execute_result"
    }
   ],
   "source": [
    "NLP_TH_PEA.getAction()"
   ]
  },
  {
   "cell_type": "code",
   "execution_count": 6,
   "metadata": {},
   "outputs": [
    {
     "data": {
      "text/plain": [
       "['จังหวัดนนทบุรี']"
      ]
     },
     "execution_count": 6,
     "metadata": {},
     "output_type": "execute_result"
    }
   ],
   "source": [
    "NLP_TH_PEA.getLocation()"
   ]
  },
  {
   "cell_type": "code",
   "execution_count": 7,
   "metadata": {},
   "outputs": [
    {
     "data": {
      "text/html": [
       "<div>\n",
       "<style scoped>\n",
       "    .dataframe tbody tr th:only-of-type {\n",
       "        vertical-align: middle;\n",
       "    }\n",
       "\n",
       "    .dataframe tbody tr th {\n",
       "        vertical-align: top;\n",
       "    }\n",
       "\n",
       "    .dataframe thead th {\n",
       "        text-align: right;\n",
       "    }\n",
       "</style>\n",
       "<table border=\"1\" class=\"dataframe\">\n",
       "  <thead>\n",
       "    <tr style=\"text-align: right;\">\n",
       "      <th></th>\n",
       "      <th>Agent</th>\n",
       "      <th>Action</th>\n",
       "      <th>Theme</th>\n",
       "      <th>Location</th>\n",
       "      <th>Temporal</th>\n",
       "      <th>Timestamp</th>\n",
       "    </tr>\n",
       "  </thead>\n",
       "  <tbody>\n",
       "    <tr>\n",
       "      <td>0</td>\n",
       "      <td>None</td>\n",
       "      <td>สอบถาม</td>\n",
       "      <td>ขออนุญาต</td>\n",
       "      <td>จังหวัดนนทบุรี</td>\n",
       "      <td>พรุ่งนี้</td>\n",
       "      <td>2020-05-20</td>\n",
       "    </tr>\n",
       "    <tr>\n",
       "      <td>1</td>\n",
       "      <td>None</td>\n",
       "      <td>ติดตั้ง</td>\n",
       "      <td>เรื่อง</td>\n",
       "      <td>None</td>\n",
       "      <td>None</td>\n",
       "      <td>None</td>\n",
       "    </tr>\n",
       "    <tr>\n",
       "      <td>2</td>\n",
       "      <td>None</td>\n",
       "      <td>ครับ</td>\n",
       "      <td>หม้อแปลง</td>\n",
       "      <td>None</td>\n",
       "      <td>None</td>\n",
       "      <td>None</td>\n",
       "    </tr>\n",
       "    <tr>\n",
       "      <td>3</td>\n",
       "      <td>None</td>\n",
       "      <td>มี</td>\n",
       "      <td>หน่อย</td>\n",
       "      <td>None</td>\n",
       "      <td>None</td>\n",
       "      <td>None</td>\n",
       "    </tr>\n",
       "    <tr>\n",
       "      <td>4</td>\n",
       "      <td>None</td>\n",
       "      <td>None</td>\n",
       "      <td>งานเลี้ยงด่วน</td>\n",
       "      <td>None</td>\n",
       "      <td>None</td>\n",
       "      <td>None</td>\n",
       "    </tr>\n",
       "  </tbody>\n",
       "</table>\n",
       "</div>"
      ],
      "text/plain": [
       "  Agent   Action          Theme        Location  Temporal   Timestamp\n",
       "0  None   สอบถาม       ขออนุญาต  จังหวัดนนทบุรี  พรุ่งนี้  2020-05-20\n",
       "1  None  ติดตั้ง         เรื่อง            None      None        None\n",
       "2  None     ครับ       หม้อแปลง            None      None        None\n",
       "3  None       มี          หน่อย            None      None        None\n",
       "4  None     None  งานเลี้ยงด่วน            None      None        None"
      ]
     },
     "execution_count": 7,
     "metadata": {},
     "output_type": "execute_result"
    }
   ],
   "source": [
    "NLP_TH_PEA.reportTable()"
   ]
  },
  {
   "cell_type": "code",
   "execution_count": 9,
   "metadata": {},
   "outputs": [
    {
     "data": {
      "text/plain": [
       "True"
      ]
     },
     "execution_count": 9,
     "metadata": {},
     "output_type": "execute_result"
    }
   ],
   "source": [
    "'สอบถาม' in NLP_TH_PEA.getAction()"
   ]
  },
  {
   "cell_type": "code",
   "execution_count": 10,
   "metadata": {},
   "outputs": [
    {
     "name": "stdout",
     "output_type": "stream",
     "text": [
      "Date = 2012-01-11\n"
     ]
    }
   ],
   "source": [
    "\n",
    "from datetime import date\n",
    "\n",
    "timestamp = date.fromtimestamp(1326244364)\n",
    "print(\"Date =\", timestamp)"
   ]
  },
  {
   "cell_type": "code",
   "execution_count": 11,
   "metadata": {},
   "outputs": [
    {
     "name": "stdout",
     "output_type": "stream",
     "text": [
      "Date = 2020-05-20\n"
     ]
    }
   ],
   "source": [
    "JS_time_ms = 1589920755744\n",
    "timestamp = date.fromtimestamp(int(JS_time_ms /1e3))\n",
    "print(\"Date =\", str( timestamp))\n"
   ]
  },
  {
   "cell_type": "code",
   "execution_count": 25,
   "metadata": {},
   "outputs": [
    {
     "data": {
      "text/plain": [
       "str"
      ]
     },
     "execution_count": 25,
     "metadata": {},
     "output_type": "execute_result"
    }
   ],
   "source": [
    "type(str( timestamp))\n"
   ]
  },
  {
   "cell_type": "code",
   "execution_count": 21,
   "metadata": {},
   "outputs": [
    {
     "data": {
      "text/plain": [
       "True"
      ]
     },
     "execution_count": 21,
     "metadata": {},
     "output_type": "execute_result"
    }
   ],
   "source": [
    "timestamp == timestamp "
   ]
  },
  {
   "cell_type": "code",
   "execution_count": 15,
   "metadata": {},
   "outputs": [
    {
     "data": {
      "text/plain": [
       "datetime.date(2020, 5, 20)"
      ]
     },
     "execution_count": 15,
     "metadata": {},
     "output_type": "execute_result"
    }
   ],
   "source": [
    "from datetime import datetime\n",
    "date = datetime.fromtimestamp( 1589920755744 / 1e3)\n",
    "date.date()"
   ]
  },
  {
   "cell_type": "code",
   "execution_count": 14,
   "metadata": {},
   "outputs": [
    {
     "data": {
      "text/plain": [
       "datetime.datetime(2020, 5, 20, 3, 39, 15, 744000)"
      ]
     },
     "execution_count": 14,
     "metadata": {},
     "output_type": "execute_result"
    }
   ],
   "source": [
    "date"
   ]
  },
  {
   "cell_type": "markdown",
   "metadata": {},
   "source": [
    "## Dictionary to JSON "
   ]
  },
  {
   "cell_type": "code",
   "execution_count": 12,
   "metadata": {},
   "outputs": [
    {
     "name": "stdout",
     "output_type": "stream",
     "text": [
      "{\"name\": \"messenger\", \"playstore\": true, \"company\": \"Facebook\", \"price\": 100}\n"
     ]
    }
   ],
   "source": [
    "import json\n",
    "\n",
    "appDict = {\n",
    "  'name': 'messenger',\n",
    "  'playstore': True,\n",
    "  'company': 'Facebook',\n",
    "  'price': 100\n",
    "}\n",
    "\n",
    "app_json = json.dumps(appDict)\n",
    "print(app_json)"
   ]
  },
  {
   "cell_type": "code",
   "execution_count": 13,
   "metadata": {},
   "outputs": [
    {
     "name": "stdout",
     "output_type": "stream",
     "text": [
      "[\n",
      "    {\n",
      "        \"id\": 22,\n",
      "        \"name\": \"Emma\"\n",
      "    },\n",
      "    78,\n",
      "    56,\n",
      "    85,\n",
      "    67\n",
      "]\n",
      "Type of deserialized data:  <class 'list'>\n",
      "JSON Data is [{'id': 22, 'name': 'Emma'}, 78, 56, 85, 67]\n"
     ]
    }
   ],
   "source": [
    "import json\n",
    "\n",
    "StudentDict = {\"id\": 22, \"name\": \"Emma\"}\n",
    "MarksList = [StudentDict, 78, 56, 85, 67]\n",
    "\n",
    "# Serialization\n",
    "encodedJson = json.dumps(MarksList, indent=4)\n",
    "print(encodedJson)\n",
    "# Deserialization\n",
    "\n",
    "data = json.loads(encodedJson) # or you can read from file using load()\n",
    "print(\"Type of deserialized data: \", type(data))\n",
    "\n",
    "print(\"JSON Data is\", data )\n",
    "# for i in data:\n",
    "#     if isinstance(i, dict):\n",
    "#         for key, value in i.items():\n",
    "#             print(key, value)\n",
    "#     else:\n",
    "#         print(i)"
   ]
  },
  {
   "cell_type": "markdown",
   "metadata": {},
   "source": [
    "## CSV Read Write\n",
    "### Create a spreadsheet file (CSV) in Python\n",
    "Let us create a file in CSV format with Python. We will use the comma character as seperator or delimter.\n",
    "\n",
    "_The file in script is opened somewhere in the system.That is the reason for getting PermissionError : [Error 13]. Solution : Just close the file and run the script. You won't get the error._\n"
   ]
  },
  {
   "cell_type": "code",
   "execution_count": 4,
   "metadata": {},
   "outputs": [],
   "source": [
    "import csv\n",
    "csv_file = \"csv_record.csv\"\n",
    "csv_path = r\"G:\\CODE\\Git\\NLP_Project\\\\\"\n",
    "df = NLP_TH_PEA.reportTable()\n",
    "dict_test = NLP_TH_PEA.reportDict()\n",
    "\n",
    "  "
   ]
  },
  {
   "cell_type": "code",
   "execution_count": 5,
   "metadata": {},
   "outputs": [
    {
     "data": {
      "text/plain": [
       "{'Agent': [],\n",
       " 'Action': ['สอบถาม', 'ติดตั้ง', 'ครับ', 'มี'],\n",
       " 'Theme': ['ขออนุญาต', 'เรื่อง', 'หม้อแปลง', 'หน่อย', 'งานเลี้ยงด่วน'],\n",
       " 'Location': ['จังหวัดนนทบุรี'],\n",
       " 'Temporal': ['พรุ่งนี้'],\n",
       " 'Timestamp': ['2020-05-20']}"
      ]
     },
     "execution_count": 5,
     "metadata": {},
     "output_type": "execute_result"
    }
   ],
   "source": [
    "dict_test "
   ]
  },
  {
   "cell_type": "markdown",
   "metadata": {},
   "source": [
    "## Save to  CSV"
   ]
  },
  {
   "cell_type": "code",
   "execution_count": 8,
   "metadata": {},
   "outputs": [
    {
     "name": "stdout",
     "output_type": "stream",
     "text": [
      "{\"Action\": [\"\\u0e2a\\u0e2d\\u0e1a\\u0e16\\u0e32\\u0e21\", \"\\u0e15\\u0e34\\u0e14\\u0e15\\u0e31\\u0e49\\u0e07\", \"\\u0e04\\u0e23\\u0e31\\u0e1a\", \"\\u0e21\\u0e35\"], \"Agent\": [], \"Location\": [\"\\u0e08\\u0e31\\u0e07\\u0e2b\\u0e27\\u0e31\\u0e14\\u0e19\\u0e19\\u0e17\\u0e1a\\u0e38\\u0e23\\u0e35\"], \"Temporal\": [\"\\u0e1e\\u0e23\\u0e38\\u0e48\\u0e07\\u0e19\\u0e35\\u0e49\"], \"Theme\": [\"\\u0e02\\u0e2d\\u0e2d\\u0e19\\u0e38\\u0e0d\\u0e32\\u0e15\", \"\\u0e40\\u0e23\\u0e37\\u0e48\\u0e2d\\u0e07\", \"\\u0e2b\\u0e21\\u0e49\\u0e2d\\u0e41\\u0e1b\\u0e25\\u0e07\", \"\\u0e2b\\u0e19\\u0e48\\u0e2d\\u0e22\", \"\\u0e07\\u0e32\\u0e19\\u0e40\\u0e25\\u0e35\\u0e49\\u0e22\\u0e07\\u0e14\\u0e48\\u0e27\\u0e19\"], \"Timestamp\": [\"2020-05-20\"]}\n"
     ]
    }
   ],
   "source": [
    "import json\n",
    "\n",
    "\n",
    "data_json = json.dumps(dict_test , sort_keys=True)\n",
    "print(data_json)"
   ]
  },
  {
   "cell_type": "code",
   "execution_count": 57,
   "metadata": {},
   "outputs": [],
   "source": [
    "reader = csv.DictReader(open('test.csv', 'rb'))"
   ]
  },
  {
   "cell_type": "code",
   "execution_count": 10,
   "metadata": {},
   "outputs": [
    {
     "ename": "AttributeError",
     "evalue": "'str' object has no attribute 'keys'",
     "output_type": "error",
     "traceback": [
      "\u001b[1;31m---------------------------------------------------------------------------\u001b[0m",
      "\u001b[1;31mAttributeError\u001b[0m                            Traceback (most recent call last)",
      "\u001b[1;32m<ipython-input-10-0c8a2209afab>\u001b[0m in \u001b[0;36m<module>\u001b[1;34m\u001b[0m\n\u001b[0;32m     19\u001b[0m \u001b[1;33m\u001b[0m\u001b[0m\n\u001b[0;32m     20\u001b[0m         \u001b[1;31m# Writing headers of CSV file\u001b[0m\u001b[1;33m\u001b[0m\u001b[1;33m\u001b[0m\u001b[1;33m\u001b[0m\u001b[0m\n\u001b[1;32m---> 21\u001b[1;33m         \u001b[0mheader\u001b[0m \u001b[1;33m=\u001b[0m \u001b[0memp\u001b[0m\u001b[1;33m.\u001b[0m\u001b[0mkeys\u001b[0m\u001b[1;33m(\u001b[0m\u001b[1;33m)\u001b[0m\u001b[1;33m\u001b[0m\u001b[1;33m\u001b[0m\u001b[0m\n\u001b[0m\u001b[0;32m     22\u001b[0m         \u001b[0mcsv_writer\u001b[0m\u001b[1;33m.\u001b[0m\u001b[0mwriterow\u001b[0m\u001b[1;33m(\u001b[0m\u001b[0mheader\u001b[0m\u001b[1;33m)\u001b[0m\u001b[1;33m\u001b[0m\u001b[1;33m\u001b[0m\u001b[0m\n\u001b[0;32m     23\u001b[0m         \u001b[0mcount\u001b[0m \u001b[1;33m+=\u001b[0m \u001b[1;36m1\u001b[0m\u001b[1;33m\u001b[0m\u001b[1;33m\u001b[0m\u001b[0m\n",
      "\u001b[1;31mAttributeError\u001b[0m: 'str' object has no attribute 'keys'"
     ]
    }
   ],
   "source": [
    "import json \n",
    "import csv \n",
    "  \n",
    "  \n",
    "\n",
    "  \n",
    "# now we will open a file for writing \n",
    "data_file = open('test.csv', 'w') \n",
    "  \n",
    "# create the csv writer object \n",
    "csv_writer = csv.writer(data_file) \n",
    "  \n",
    "# Counter variable used for writing  \n",
    "# headers to the CSV file \n",
    "count = 0\n",
    "  \n",
    "for emp in data_json: \n",
    "    if count == 0: \n",
    "  \n",
    "        # Writing headers of CSV file \n",
    "        header = emp.keys() \n",
    "        csv_writer.writerow(header) \n",
    "        count += 1\n",
    "  \n",
    "    # Writing data of CSV file \n",
    "    csv_writer.writerow(emp.values()) \n",
    "  \n",
    "data_file.close() "
   ]
  },
  {
   "cell_type": "code",
   "execution_count": null,
   "metadata": {},
   "outputs": [],
   "source": []
  }
 ],
 "metadata": {
  "kernelspec": {
   "display_name": "Python 3",
   "language": "python",
   "name": "python3"
  },
  "language_info": {
   "codemirror_mode": {
    "name": "ipython",
    "version": 3
   },
   "file_extension": ".py",
   "mimetype": "text/x-python",
   "name": "python",
   "nbconvert_exporter": "python",
   "pygments_lexer": "ipython3",
   "version": "3.7.4"
  },
  "toc": {
   "base_numbering": 1,
   "nav_menu": {},
   "number_sections": true,
   "sideBar": true,
   "skip_h1_title": false,
   "title_cell": "Table of Contents",
   "title_sidebar": "Contents",
   "toc_cell": false,
   "toc_position": {},
   "toc_section_display": true,
   "toc_window_display": false
  }
 },
 "nbformat": 4,
 "nbformat_minor": 2
}
