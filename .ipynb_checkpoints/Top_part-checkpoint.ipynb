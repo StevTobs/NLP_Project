{
 "cells": [
  {
   "cell_type": "code",
   "execution_count": 1,
   "metadata": {},
   "outputs": [
    {
     "name": "stdout",
     "output_type": "stream",
     "text": [
      "Collecting https://github.com/PyThaiNLP/pythainlp/archive/dev.zip\n",
      "  Using cached https://github.com/PyThaiNLP/pythainlp/archive/dev.zip\n",
      "Requirement already satisfied (use --upgrade to upgrade): pythainlp==2.2.0.dev1 from https://github.com/PyThaiNLP/pythainlp/archive/dev.zip in c:\\programdata\\anaconda3\\lib\\site-packages\n",
      "Requirement already satisfied: dill>=0.3.0 in c:\\programdata\\anaconda3\\lib\\site-packages (from pythainlp==2.2.0.dev1) (0.3.1.1)\n",
      "Requirement already satisfied: nltk>=3.3 in c:\\programdata\\anaconda3\\lib\\site-packages (from pythainlp==2.2.0.dev1) (3.4.5)\n",
      "Requirement already satisfied: python-crfsuite>=0.9.6 in c:\\programdata\\anaconda3\\lib\\site-packages (from pythainlp==2.2.0.dev1) (0.9.7)\n",
      "Requirement already satisfied: requests>=2.22.0 in c:\\programdata\\anaconda3\\lib\\site-packages (from pythainlp==2.2.0.dev1) (2.22.0)\n",
      "Requirement already satisfied: tinydb>=3.0 in c:\\programdata\\anaconda3\\lib\\site-packages (from pythainlp==2.2.0.dev1) (4.1.1)\n",
      "Requirement already satisfied: tqdm>=4.1 in c:\\programdata\\anaconda3\\lib\\site-packages (from pythainlp==2.2.0.dev1) (4.36.1)\n",
      "Requirement already satisfied: six in c:\\programdata\\anaconda3\\lib\\site-packages (from nltk>=3.3->pythainlp==2.2.0.dev1) (1.12.0)\n",
      "Requirement already satisfied: idna<2.9,>=2.5 in c:\\programdata\\anaconda3\\lib\\site-packages (from requests>=2.22.0->pythainlp==2.2.0.dev1) (2.8)\n",
      "Requirement already satisfied: urllib3!=1.25.0,!=1.25.1,<1.26,>=1.21.1 in c:\\programdata\\anaconda3\\lib\\site-packages (from requests>=2.22.0->pythainlp==2.2.0.dev1) (1.24.2)\n",
      "Requirement already satisfied: chardet<3.1.0,>=3.0.2 in c:\\programdata\\anaconda3\\lib\\site-packages (from requests>=2.22.0->pythainlp==2.2.0.dev1) (3.0.4)\n",
      "Requirement already satisfied: certifi>=2017.4.17 in c:\\programdata\\anaconda3\\lib\\site-packages (from requests>=2.22.0->pythainlp==2.2.0.dev1) (2019.9.11)\n",
      "Building wheels for collected packages: pythainlp\n",
      "  Building wheel for pythainlp (setup.py): started\n",
      "  Building wheel for pythainlp (setup.py): finished with status 'done'\n",
      "  Created wheel for pythainlp: filename=pythainlp-2.2.0.dev1-cp37-none-any.whl size=13175656 sha256=a5782b135f68329431f430e7b03ffdcbdeba20b383c4beacacb48f39f9f8e226\n",
      "  Stored in directory: C:\\Users\\StevTobs\\AppData\\Local\\Temp\\pip-ephem-wheel-cache-phcwkxuf\\wheels\\79\\4e\\1e\\26f3198c6712ecfbee92928ed1dde923a078da3d222401cc78\n",
      "Successfully built pythainlp\n",
      "Collecting epitran\n",
      "  Using cached https://files.pythonhosted.org/packages/00/ce/ebf70bb24f220c628d4ce1e153c07e95f59132a1d882b586427ade2b1b3d/epitran-1.8-py2.py3-none-any.whl\n",
      "Collecting marisa-trie (from epitran)\n",
      "  Using cached https://files.pythonhosted.org/packages/20/95/d23071d0992dabcb61c948fb118a90683193befc88c23e745b050a29e7db/marisa-trie-0.7.5.tar.gz\n",
      "Collecting panphon>=0.16 (from epitran)\n",
      "  Using cached https://files.pythonhosted.org/packages/ef/25/935f443f0a2cce5d7a4b6b0d9101c990a6f3c74702c02287d4addd3fe009/panphon-0.17-py2.py3-none-any.whl\n",
      "Requirement already satisfied: unicodecsv in c:\\programdata\\anaconda3\\lib\\site-packages (from epitran) (0.14.1)\n",
      "Requirement already satisfied: setuptools in c:\\programdata\\anaconda3\\lib\\site-packages (from epitran) (41.4.0)\n",
      "Requirement already satisfied: regex in c:\\programdata\\anaconda3\\lib\\site-packages (from epitran) (2020.5.14)\n",
      "Collecting munkres (from panphon>=0.16->epitran)\n",
      "  Using cached https://files.pythonhosted.org/packages/64/97/61ddc63578870e04db6eb1d3bee58ad4e727f682068a7c7405edb8b2cdeb/munkres-1.1.2-py2.py3-none-any.whl\n",
      "Requirement already satisfied: PyYAML in c:\\programdata\\anaconda3\\lib\\site-packages (from panphon>=0.16->epitran) (5.1.2)\n",
      "Collecting editdistance (from panphon>=0.16->epitran)\n",
      "  Using cached https://files.pythonhosted.org/packages/5a/21/3178b32699c94aff68239372e30e01b2707f6b5438d8732d4356162fa3b1/editdistance-0.5.3-cp37-cp37m-win_amd64.whl\n",
      "Requirement already satisfied: numpy in c:\\programdata\\anaconda3\\lib\\site-packages (from panphon>=0.16->epitran) (1.16.5)\n",
      "Building wheels for collected packages: marisa-trie\n",
      "  Building wheel for marisa-trie (setup.py): started\n",
      "  Building wheel for marisa-trie (setup.py): finished with status 'error'\n",
      "  Running setup.py clean for marisa-trie\n",
      "Failed to build marisa-trie\n",
      "Installing collected packages: marisa-trie, munkres, editdistance, panphon, epitran\n",
      "  Running setup.py install for marisa-trie: started\n",
      "    Running setup.py install for marisa-trie: finished with status 'error'\n"
     ]
    },
    {
     "name": "stderr",
     "output_type": "stream",
     "text": [
      "  ERROR: Command errored out with exit status 1:\n",
      "   command: 'C:\\ProgramData\\Anaconda3\\python.exe' -u -c 'import sys, setuptools, tokenize; sys.argv[0] = '\"'\"'C:\\\\Users\\\\StevTobs\\\\AppData\\\\Local\\\\Temp\\\\pip-install-rwc2vqc2\\\\marisa-trie\\\\setup.py'\"'\"'; __file__='\"'\"'C:\\\\Users\\\\StevTobs\\\\AppData\\\\Local\\\\Temp\\\\pip-install-rwc2vqc2\\\\marisa-trie\\\\setup.py'\"'\"';f=getattr(tokenize, '\"'\"'open'\"'\"', open)(__file__);code=f.read().replace('\"'\"'\\r\\n'\"'\"', '\"'\"'\\n'\"'\"');f.close();exec(compile(code, __file__, '\"'\"'exec'\"'\"'))' bdist_wheel -d 'C:\\Users\\StevTobs\\AppData\\Local\\Temp\\pip-wheel-x16uibnj' --python-tag cp37\n",
      "       cwd: C:\\Users\\StevTobs\\AppData\\Local\\Temp\\pip-install-rwc2vqc2\\marisa-trie\\\n",
      "  Complete output (5 lines):\n",
      "  running bdist_wheel\n",
      "  running build\n",
      "  running build_clib\n",
      "  building 'libmarisa-trie' library\n",
      "  error: Microsoft Visual C++ 14.0 is required. Get it with \"Microsoft Visual C++ Build Tools\": https://visualstudio.microsoft.com/downloads/\n",
      "  ----------------------------------------\n",
      "  ERROR: Failed building wheel for marisa-trie\n",
      "    ERROR: Command errored out with exit status 1:\n",
      "     command: 'C:\\ProgramData\\Anaconda3\\python.exe' -u -c 'import sys, setuptools, tokenize; sys.argv[0] = '\"'\"'C:\\\\Users\\\\StevTobs\\\\AppData\\\\Local\\\\Temp\\\\pip-install-rwc2vqc2\\\\marisa-trie\\\\setup.py'\"'\"'; __file__='\"'\"'C:\\\\Users\\\\StevTobs\\\\AppData\\\\Local\\\\Temp\\\\pip-install-rwc2vqc2\\\\marisa-trie\\\\setup.py'\"'\"';f=getattr(tokenize, '\"'\"'open'\"'\"', open)(__file__);code=f.read().replace('\"'\"'\\r\\n'\"'\"', '\"'\"'\\n'\"'\"');f.close();exec(compile(code, __file__, '\"'\"'exec'\"'\"'))' install --record 'C:\\Users\\StevTobs\\AppData\\Local\\Temp\\pip-record-mk2c08rc\\install-record.txt' --single-version-externally-managed --compile\n",
      "         cwd: C:\\Users\\StevTobs\\AppData\\Local\\Temp\\pip-install-rwc2vqc2\\marisa-trie\\\n",
      "    Complete output (5 lines):\n",
      "    running install\n",
      "    running build\n",
      "    running build_clib\n",
      "    building 'libmarisa-trie' library\n",
      "    error: Microsoft Visual C++ 14.0 is required. Get it with \"Microsoft Visual C++ Build Tools\": https://visualstudio.microsoft.com/downloads/\n",
      "    ----------------------------------------\n",
      "ERROR: Command errored out with exit status 1: 'C:\\ProgramData\\Anaconda3\\python.exe' -u -c 'import sys, setuptools, tokenize; sys.argv[0] = '\"'\"'C:\\\\Users\\\\StevTobs\\\\AppData\\\\Local\\\\Temp\\\\pip-install-rwc2vqc2\\\\marisa-trie\\\\setup.py'\"'\"'; __file__='\"'\"'C:\\\\Users\\\\StevTobs\\\\AppData\\\\Local\\\\Temp\\\\pip-install-rwc2vqc2\\\\marisa-trie\\\\setup.py'\"'\"';f=getattr(tokenize, '\"'\"'open'\"'\"', open)(__file__);code=f.read().replace('\"'\"'\\r\\n'\"'\"', '\"'\"'\\n'\"'\"');f.close();exec(compile(code, __file__, '\"'\"'exec'\"'\"'))' install --record 'C:\\Users\\StevTobs\\AppData\\Local\\Temp\\pip-record-mk2c08rc\\install-record.txt' --single-version-externally-managed --compile Check the logs for full command output.\n"
     ]
    },
    {
     "name": "stdout",
     "output_type": "stream",
     "text": [
      "Requirement already satisfied: sklearn_crfsuite in c:\\programdata\\anaconda3\\lib\\site-packages (0.3.6)\n",
      "Requirement already satisfied: tqdm>=2.0 in c:\\programdata\\anaconda3\\lib\\site-packages (from sklearn_crfsuite) (4.36.1)\n",
      "Requirement already satisfied: six in c:\\programdata\\anaconda3\\lib\\site-packages (from sklearn_crfsuite) (1.12.0)\n",
      "Requirement already satisfied: tabulate in c:\\programdata\\anaconda3\\lib\\site-packages (from sklearn_crfsuite) (0.8.7)\n",
      "Requirement already satisfied: python-crfsuite>=0.8.3 in c:\\programdata\\anaconda3\\lib\\site-packages (from sklearn_crfsuite) (0.9.7)\n"
     ]
    }
   ],
   "source": [
    "\n",
    "# # uncomment if running from colab\n",
    "# !pip install https://github.com/PyThaiNLP/pythainlp/archive/dev.zip\n",
    "# !pip install epitran\n",
    "# !pip install sklearn_crfsuite"
   ]
  },
  {
   "cell_type": "code",
   "execution_count": 10,
   "metadata": {},
   "outputs": [
    {
     "data": {
      "text/plain": [
       "'2.2.0-dev1'"
      ]
     },
     "execution_count": 10,
     "metadata": {},
     "output_type": "execute_result"
    }
   ],
   "source": [
    "\n",
    "import pythainlp\n",
    "import pandas as pd\n",
    "import numpy as np\n",
    "from pythainlp.tag.named_entity import ThaiNameTagger\n",
    "\n",
    "NameEntity = ThaiNameTagger()\n",
    "from numpy.random import randn\n",
    "np.random.seed(101) \n",
    "pythainlp.__version__"
   ]
  },
  {
   "cell_type": "markdown",
   "metadata": {},
   "source": [
    "## Functions"
   ]
  },
  {
   "cell_type": "code",
   "execution_count": 18,
   "metadata": {},
   "outputs": [],
   "source": [
    "def concadDf(df1, df2):\n",
    "  \n",
    "  frames = [df1, df2]\n",
    "  result = pd.concat(frames)\n",
    "  return result\n",
    "\n",
    "\n",
    "def getAction(   word_dmm ):\n",
    "\n",
    "    word_verb = []\n",
    "\n",
    "    for i in range( len( word_dmm ) ):\n",
    "        if word_dmm[i][1] == 'VERB':\n",
    "            word_verb.append(word_dmm[i][0])\n",
    "\n",
    "    return word_verb  "
   ]
  },
  {
   "cell_type": "markdown",
   "metadata": {},
   "source": [
    "Dataframs format"
   ]
  },
  {
   "cell_type": "code",
   "execution_count": 39,
   "metadata": {},
   "outputs": [],
   "source": [
    "df = pd.DataFrame(np.empty((1,6)),index='initial'.split(),columns='Event Action Agent Theme Location Temporal'.split())"
   ]
  },
  {
   "cell_type": "code",
   "execution_count": 40,
   "metadata": {},
   "outputs": [
    {
     "data": {
      "text/html": [
       "<div>\n",
       "<style scoped>\n",
       "    .dataframe tbody tr th:only-of-type {\n",
       "        vertical-align: middle;\n",
       "    }\n",
       "\n",
       "    .dataframe tbody tr th {\n",
       "        vertical-align: top;\n",
       "    }\n",
       "\n",
       "    .dataframe thead th {\n",
       "        text-align: right;\n",
       "    }\n",
       "</style>\n",
       "<table border=\"1\" class=\"dataframe\">\n",
       "  <thead>\n",
       "    <tr style=\"text-align: right;\">\n",
       "      <th></th>\n",
       "      <th>Event</th>\n",
       "      <th>Action</th>\n",
       "      <th>Agent</th>\n",
       "      <th>Theme</th>\n",
       "      <th>Location</th>\n",
       "      <th>Temporal</th>\n",
       "    </tr>\n",
       "  </thead>\n",
       "  <tbody>\n",
       "    <tr>\n",
       "      <td>initial</td>\n",
       "      <td>0.0</td>\n",
       "      <td>0.0</td>\n",
       "      <td>0.0</td>\n",
       "      <td>0.0</td>\n",
       "      <td>0.0</td>\n",
       "      <td>0.0</td>\n",
       "    </tr>\n",
       "    <tr>\n",
       "      <td>initial-2</td>\n",
       "      <td>0.0</td>\n",
       "      <td>0.0</td>\n",
       "      <td>0.0</td>\n",
       "      <td>0.0</td>\n",
       "      <td>0.0</td>\n",
       "      <td>0.0</td>\n",
       "    </tr>\n",
       "  </tbody>\n",
       "</table>\n",
       "</div>"
      ],
      "text/plain": [
       "           Event  Action  Agent  Theme  Location  Temporal\n",
       "initial      0.0     0.0    0.0    0.0       0.0       0.0\n",
       "initial-2    0.0     0.0    0.0    0.0       0.0       0.0"
      ]
     },
     "execution_count": 40,
     "metadata": {},
     "output_type": "execute_result"
    }
   ],
   "source": [
    "#test concate\n",
    "df2 = pd.DataFrame(np.zeros((1,6)),index='initial-2'.split(),columns='Event Action Agent Theme Location Temporal'.split())\n",
    "concadDf(df, df2)"
   ]
  },
  {
   "cell_type": "code",
   "execution_count": 63,
   "metadata": {
    "scrolled": true
   },
   "outputs": [
    {
     "name": "stdout",
     "output_type": "stream",
     "text": [
      "พ.ต.ท.เสน่ห์ อุโคตร พนักงานสอบสวนเวร สภ.ท้ายเหมือง จ.พังงา ได้รับแจ้งเหตุฆาตกรรมในพื้นที่ตำบลบางทอง มีคนเสียชีวิตและบาดเจ็บหลายราย จึงออกตรวจสอบพร้อมด้วยพ.ต.อ.วีรยุทธ สิทธิรัตนกุล ผกก.สภ.ท้ายเหมือง พ.ต.อ.วชิรา ละเอียดศิลป์ หัวหน้าพิสูจน์หลักฐานจังหวัดพังงา ชุดสืบสวนตำรวจภูธรภาค 8 และหน่วยกู้ภัยบางทอง\n"
     ]
    }
   ],
   "source": [
    "inputTxt = input() "
   ]
  },
  {
   "cell_type": "code",
   "execution_count": 64,
   "metadata": {},
   "outputs": [
    {
     "name": "stdout",
     "output_type": "stream",
     "text": [
      "[('พ.ต.ท.', 'NOUN', 'B-PERSON'), ('เสน่ห์', 'NOUN', 'I-PERSON'), (' ', 'PUNCT', 'I-PERSON'), ('อุ', 'NOUN', 'I-PERSON'), ('โคตร', 'NOUN', 'I-PERSON'), (' ', 'PUNCT', 'I-PERSON'), ('พนักงานสอบสวน', 'NOUN', 'I-PERSON'), ('เวร', 'NOUN', 'I-PERSON'), (' ', 'PUNCT', 'O'), ('สภ.', 'NOUN', 'B-ORGANIZATION'), ('ท้าย', 'NOUN', 'I-ORGANIZATION'), ('เหมือง', 'NOUN', 'I-ORGANIZATION'), (' ', 'PUNCT', 'O'), ('จ.', 'NOUN', 'B-LOCATION'), ('พังงา', 'NOUN', 'I-LOCATION'), (' ', 'PUNCT', 'O'), ('ได้รับ', 'VERB', 'O'), ('แจ้งเหตุ', 'NOUN', 'O'), ('ฆาตกรรม', 'NOUN', 'O'), ('ใน', 'ADP', 'O'), ('พื้นที่', 'NOUN', 'O'), ('ตำบล', 'NOUN', 'B-LOCATION'), ('บาง', 'DET', 'I-LOCATION'), ('ทอง', 'NOUN', 'I-LOCATION'), (' ', 'PUNCT', 'O'), ('มี', 'VERB', 'O'), ('คน', 'NOUN', 'O'), ('เสียชีวิต', 'NOUN', 'O'), ('และ', 'CCONJ', 'O'), ('บาดเจ็บ', 'NOUN', 'O'), ('หลาย', 'DET', 'O'), ('ราย', 'NOUN', 'O'), (' ', 'PUNCT', 'O'), ('จึง', 'AUX', 'O'), ('ออก', 'VERB', 'O'), ('ตรวจสอบ', 'VERB', 'O'), ('พร้อมด้วย', 'ADP', 'O'), ('พ.ต.อ.', 'NOUN', 'B-PERSON'), ('วีร', 'NOUN', 'I-PERSON'), ('ยุทธ', 'NOUN', 'I-PERSON'), (' ', 'PUNCT', 'I-PERSON'), ('สิทธิ', 'NOUN', 'I-PERSON'), ('รัต', 'NOUN', 'I-PERSON'), ('นกุล', 'NOUN', 'I-PERSON'), (' ', 'PUNCT', 'O'), ('ผกก.', 'NOUN', 'O'), ('สภ.', 'NOUN', 'B-ORGANIZATION'), ('ท้าย', 'NOUN', 'I-ORGANIZATION'), ('เหมือง', 'NOUN', 'I-ORGANIZATION'), (' ', 'PUNCT', 'O'), ('พ.ต.อ.', 'NOUN', 'B-PERSON'), ('ว', 'NOUN', 'I-PERSON'), ('ชิ', 'NOUN', 'I-PERSON'), ('รา', 'NOUN', 'I-PERSON'), (' ', 'PUNCT', 'I-PERSON'), ('ละเอียด', 'ADJ', 'I-PERSON'), ('ศิลป์', 'PROPN', 'I-PERSON'), (' ', 'PUNCT', 'O'), ('หัวหน้า', 'NOUN', 'O'), ('พิสูจน์', 'NOUN', 'O'), ('หลักฐาน', 'NOUN', 'O'), ('จังหวัด', 'NOUN', 'B-LOCATION'), ('พังงา', 'NOUN', 'I-LOCATION'), (' ', 'PUNCT', 'O'), ('ชุด', 'NOUN', 'O'), ('สืบสวน', 'NOUN', 'O'), ('ตำรวจภูธร', 'ADP', 'O'), ('ภาค', 'NOUN', 'O'), (' ', 'PUNCT', 'O'), ('8', 'NUM', 'O'), (' ', 'PUNCT', 'O'), ('และ', 'CCONJ', 'O'), ('หน่วยกู้ภัย', 'NOUN', 'B-LOCATION'), ('บาง', 'DET', 'I-LOCATION'), ('ทอง', 'NOUN', 'I-LOCATION')]\n"
     ]
    }
   ],
   "source": [
    "word_dmm = NameEntity.get_ner(inputTxt)\n",
    "print(word_dmm)"
   ]
  },
  {
   "cell_type": "code",
   "execution_count": 53,
   "metadata": {},
   "outputs": [
    {
     "data": {
      "text/plain": [
       "75"
      ]
     },
     "execution_count": 53,
     "metadata": {},
     "output_type": "execute_result"
    }
   ],
   "source": [
    "len( word_dmm )"
   ]
  },
  {
   "cell_type": "code",
   "execution_count": 101,
   "metadata": {},
   "outputs": [
    {
     "data": {
      "text/plain": [
       "3"
      ]
     },
     "execution_count": 101,
     "metadata": {},
     "output_type": "execute_result"
    }
   ],
   "source": [
    "len( word_dmm[0] )"
   ]
  },
  {
   "cell_type": "code",
   "execution_count": 124,
   "metadata": {},
   "outputs": [
    {
     "data": {
      "text/plain": [
       "'NOUN'"
      ]
     },
     "execution_count": 124,
     "metadata": {},
     "output_type": "execute_result"
    }
   ],
   "source": [
    "word_dmm[1][1]"
   ]
  },
  {
   "cell_type": "code",
   "execution_count": 133,
   "metadata": {},
   "outputs": [],
   "source": [
    "\n",
    "\n",
    "def getLocation(   word_dmm ):\n",
    "    print(len(word_dmm))\n",
    "    word_loc = []\n",
    "    check_Last_B_location = False\n",
    "    for i in range( len( word_dmm ) ):\n",
    "        \n",
    "        \n",
    "        if len( word_dmm[i]) > 1 and check_Last_B_location :\n",
    "            if( word_dmm[i][2] == 'I-LOCATION'):\n",
    "                word_loc[-1] = word_loc[-1] + word_dmm[i][0]\n",
    "                check_Last_B_location = False\n",
    "            \n",
    "        if word_dmm[i][2] == 'B-LOCATION':\n",
    "            word_loc.append(word_dmm[i][0])\n",
    "            \n",
    "            check_Last_B_location = True\n",
    "        else :\n",
    "            check_Last_B_location = False\n",
    "\n",
    "    return word_loc   \n",
    "    "
   ]
  },
  {
   "cell_type": "code",
   "execution_count": 134,
   "metadata": {},
   "outputs": [
    {
     "name": "stdout",
     "output_type": "stream",
     "text": [
      "75\n"
     ]
    },
    {
     "data": {
      "text/plain": [
       "['จ.พังงา', 'ตำบลบาง', 'จังหวัดพังงา', 'หน่วยกู้ภัยบาง']"
      ]
     },
     "execution_count": 134,
     "metadata": {},
     "output_type": "execute_result"
    }
   ],
   "source": [
    "getLocation( word_dmm )"
   ]
  },
  {
   "cell_type": "code",
   "execution_count": null,
   "metadata": {},
   "outputs": [],
   "source": [
    "dict"
   ]
  },
  {
   "cell_type": "code",
   "execution_count": 69,
   "metadata": {},
   "outputs": [],
   "source": [
    "# pd.DataFrame.from_dict({'a': a, 'b': b}, orient='index').T\n",
    "df_res = pd.DataFrame(dict['event01'])"
   ]
  },
  {
   "cell_type": "code",
   "execution_count": 47,
   "metadata": {},
   "outputs": [
    {
     "data": {
      "text/html": [
       "<div>\n",
       "<style scoped>\n",
       "    .dataframe tbody tr th:only-of-type {\n",
       "        vertical-align: middle;\n",
       "    }\n",
       "\n",
       "    .dataframe tbody tr th {\n",
       "        vertical-align: top;\n",
       "    }\n",
       "\n",
       "    .dataframe thead th {\n",
       "        text-align: right;\n",
       "    }\n",
       "</style>\n",
       "<table border=\"1\" class=\"dataframe\">\n",
       "  <thead>\n",
       "    <tr style=\"text-align: right;\">\n",
       "      <th></th>\n",
       "      <th>Action</th>\n",
       "    </tr>\n",
       "  </thead>\n",
       "  <tbody>\n",
       "    <tr>\n",
       "      <td>0</td>\n",
       "      <td>ได้รับ</td>\n",
       "    </tr>\n",
       "    <tr>\n",
       "      <td>1</td>\n",
       "      <td>มี</td>\n",
       "    </tr>\n",
       "    <tr>\n",
       "      <td>2</td>\n",
       "      <td>ออก</td>\n",
       "    </tr>\n",
       "    <tr>\n",
       "      <td>3</td>\n",
       "      <td>ตรวจสอบ</td>\n",
       "    </tr>\n",
       "  </tbody>\n",
       "</table>\n",
       "</div>"
      ],
      "text/plain": [
       "    Action\n",
       "0   ได้รับ\n",
       "1       มี\n",
       "2      ออก\n",
       "3  ตรวจสอบ"
      ]
     },
     "execution_count": 47,
     "metadata": {},
     "output_type": "execute_result"
    }
   ],
   "source": [
    "df_res"
   ]
  },
  {
   "cell_type": "code",
   "execution_count": null,
   "metadata": {},
   "outputs": [],
   "source": []
  }
 ],
 "metadata": {
  "kernelspec": {
   "display_name": "Python 3",
   "language": "python",
   "name": "python3"
  },
  "language_info": {
   "codemirror_mode": {
    "name": "ipython",
    "version": 3
   },
   "file_extension": ".py",
   "mimetype": "text/x-python",
   "name": "python",
   "nbconvert_exporter": "python",
   "pygments_lexer": "ipython3",
   "version": "3.7.4"
  },
  "toc": {
   "base_numbering": 1,
   "nav_menu": {},
   "number_sections": true,
   "sideBar": true,
   "skip_h1_title": false,
   "title_cell": "Table of Contents",
   "title_sidebar": "Contents",
   "toc_cell": false,
   "toc_position": {},
   "toc_section_display": true,
   "toc_window_display": false
  }
 },
 "nbformat": 4,
 "nbformat_minor": 2
}
