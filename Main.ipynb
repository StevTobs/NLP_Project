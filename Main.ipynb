{
 "cells": [
  {
   "cell_type": "code",
   "execution_count": 1,
   "metadata": {},
   "outputs": [],
   "source": [
    "from NLP_temporal_memory import *"
   ]
  },
  {
   "cell_type": "markdown",
   "metadata": {},
   "source": [
    "## When event is happen!"
   ]
  },
  {
   "cell_type": "code",
   "execution_count": 2,
   "metadata": {},
   "outputs": [
    {
     "name": "stdout",
     "output_type": "stream",
     "text": [
      "userId:  U99648c35cb84f0ab7ca8e22bf2b375f7\n",
      "Auto report file : \n",
      " {'0000': ['initial'], 'E001': [{'Agent': ['ผม', 'ท่าน'], 'Action': ['ขอ'], 'Theme': ['คุย', 'หัวหน้านะครับ'], 'Location': [], 'Temporal': ['พรุ่งนี้', 'พรุ่งนี้'], 'Timestamp': ['2020-05-20']}], 'E002': [{'Agent': ['ผม', 'ท่าน'], 'Action': ['ขอ'], 'Theme': ['คุย', 'หัวหน้านะครับ'], 'Location': [], 'Temporal': ['พรุ่งนี้', 'พรุ่งนี้'], 'Timestamp': ['2020-05-20']}], 'E003': [{'Agent': ['ผม'], 'Action': ['ยังไง', 'รบกวน', 'มี', 'ประชุม'], 'Theme': ['แจ้งกระผม', 'นะครับ', 'พอดี', 'แม่น้ำ'], 'Location': [], 'Temporal': [], 'Timestamp': ['2020-05-20']}], 'E004': [{'Agent': ['ผม'], 'Action': ['ยังไง', 'รบกวน', 'มี', 'ประชุม'], 'Theme': ['แจ้งกระผม', 'นะครับ', 'พอดี', 'แม่น้ำ'], 'Location': [], 'Temporal': [], 'Timestamp': ['2020-05-20']}], 'E005': [{'Agent': [], 'Action': ['ขอ'], 'Theme': ['เสียงรถด่วนขบวน', 'วุ่นวาย', 'ตามสบาย', 'เถอะ'], 'Location': [], 'Temporal': [], 'Timestamp': ['2020-05-20']}]}\n",
      "NLP Thai PEA is ready!!\n",
      "------------------------------------------------------------------------------\n"
     ]
    }
   ],
   "source": [
    "# input parameters\n",
    "txt_path  = r\"json_recored_file.txt\"\n",
    "userId = \"U99648c35cb84f0ab7ca8e22bf2b375f7\"\n",
    "JS_timestamp_ms = 1589920755744\n",
    "message = \"ขออนุญาตสอบถามเรื่องติดตั้งหม้อแปลงที่จังหวัดนนทบุรีหน่อยครับ พรุ่งนี้จะต้องมีงานเลี้ยงด่วน\"\n",
    "\n",
    "PEA_NLP = NLP_THAI_PEA(message , JS_timestamp_ms , userId , txt_path )"
   ]
  },
  {
   "cell_type": "markdown",
   "metadata": {},
   "source": [
    "### Report the input as a table with text classification!"
   ]
  },
  {
   "cell_type": "code",
   "execution_count": 3,
   "metadata": {
    "scrolled": true
   },
   "outputs": [
    {
     "data": {
      "text/html": [
       "<div>\n",
       "<style scoped>\n",
       "    .dataframe tbody tr th:only-of-type {\n",
       "        vertical-align: middle;\n",
       "    }\n",
       "\n",
       "    .dataframe tbody tr th {\n",
       "        vertical-align: top;\n",
       "    }\n",
       "\n",
       "    .dataframe thead th {\n",
       "        text-align: right;\n",
       "    }\n",
       "</style>\n",
       "<table border=\"1\" class=\"dataframe\">\n",
       "  <thead>\n",
       "    <tr style=\"text-align: right;\">\n",
       "      <th></th>\n",
       "      <th>Agent</th>\n",
       "      <th>Action</th>\n",
       "      <th>Theme</th>\n",
       "      <th>Location</th>\n",
       "      <th>Temporal</th>\n",
       "      <th>Timestamp</th>\n",
       "    </tr>\n",
       "  </thead>\n",
       "  <tbody>\n",
       "    <tr>\n",
       "      <td>0</td>\n",
       "      <td>None</td>\n",
       "      <td>สอบถาม</td>\n",
       "      <td>ขออนุญาต</td>\n",
       "      <td>จังหวัดนนทบุรี</td>\n",
       "      <td>พรุ่งนี้</td>\n",
       "      <td>2020-05-20</td>\n",
       "    </tr>\n",
       "    <tr>\n",
       "      <td>1</td>\n",
       "      <td>None</td>\n",
       "      <td>ติดตั้ง</td>\n",
       "      <td>เรื่อง</td>\n",
       "      <td>None</td>\n",
       "      <td>None</td>\n",
       "      <td>None</td>\n",
       "    </tr>\n",
       "    <tr>\n",
       "      <td>2</td>\n",
       "      <td>None</td>\n",
       "      <td>ครับ</td>\n",
       "      <td>หม้อแปลง</td>\n",
       "      <td>None</td>\n",
       "      <td>None</td>\n",
       "      <td>None</td>\n",
       "    </tr>\n",
       "    <tr>\n",
       "      <td>3</td>\n",
       "      <td>None</td>\n",
       "      <td>มี</td>\n",
       "      <td>หน่อย</td>\n",
       "      <td>None</td>\n",
       "      <td>None</td>\n",
       "      <td>None</td>\n",
       "    </tr>\n",
       "    <tr>\n",
       "      <td>4</td>\n",
       "      <td>None</td>\n",
       "      <td>None</td>\n",
       "      <td>งานเลี้ยงด่วน</td>\n",
       "      <td>None</td>\n",
       "      <td>None</td>\n",
       "      <td>None</td>\n",
       "    </tr>\n",
       "  </tbody>\n",
       "</table>\n",
       "</div>"
      ],
      "text/plain": [
       "  Agent   Action          Theme        Location  Temporal   Timestamp\n",
       "0  None   สอบถาม       ขออนุญาต  จังหวัดนนทบุรี  พรุ่งนี้  2020-05-20\n",
       "1  None  ติดตั้ง         เรื่อง            None      None        None\n",
       "2  None     ครับ       หม้อแปลง            None      None        None\n",
       "3  None       มี          หน่อย            None      None        None\n",
       "4  None     None  งานเลี้ยงด่วน            None      None        None"
      ]
     },
     "execution_count": 3,
     "metadata": {},
     "output_type": "execute_result"
    }
   ],
   "source": [
    "PEA_NLP.reportTable()"
   ]
  },
  {
   "cell_type": "markdown",
   "metadata": {},
   "source": [
    "### Clear file (please becareful!)"
   ]
  },
  {
   "cell_type": "code",
   "execution_count": 4,
   "metadata": {},
   "outputs": [
    {
     "name": "stdout",
     "output_type": "stream",
     "text": [
      "Data has been deleted!!\n"
     ]
    }
   ],
   "source": [
    "PEA_NLP.clear_file()"
   ]
  },
  {
   "cell_type": "code",
   "execution_count": 5,
   "metadata": {},
   "outputs": [
    {
     "data": {
      "text/plain": [
       "{'0000': ['initial']}"
      ]
     },
     "execution_count": 5,
     "metadata": {},
     "output_type": "execute_result"
    }
   ],
   "source": [
    "# Now the record is empty\n",
    "PEA_NLP.display_recorded(txt_path )"
   ]
  },
  {
   "cell_type": "markdown",
   "metadata": {},
   "source": [
    "### When the new text occurs again!"
   ]
  },
  {
   "cell_type": "code",
   "execution_count": 6,
   "metadata": {},
   "outputs": [
    {
     "name": "stdout",
     "output_type": "stream",
     "text": [
      "userId:  U99648c35cb84f0ab7ca8e22bf2b375f7\n",
      "Auto report file : \n",
      " {'0000': ['initial']}\n",
      "NLP Thai PEA is ready!!\n",
      "------------------------------------------------------------------------------\n"
     ]
    }
   ],
   "source": [
    "userId = \"U99648c35cb84f0ab7ca8e22bf2b375f7\"\n",
    "JS_timestamp_ms = 1589920755744\n",
    "message = \"พรุ่งนี้พรุ่งนี้ผมจะขอไปคุยกับท่านหัวหน้านะครับ\"\n",
    "txt_path  = r\"json_recored_file.txt\"\n",
    "\n",
    "PEA_NLP = NLP_THAI_PEA(message , JS_timestamp_ms , userId , txt_path )"
   ]
  },
  {
   "cell_type": "markdown",
   "metadata": {},
   "source": [
    "### This method is used for updating the new message to the text file."
   ]
  },
  {
   "cell_type": "code",
   "execution_count": 7,
   "metadata": {},
   "outputs": [
    {
     "name": "stdout",
     "output_type": "stream",
     "text": [
      "The record has been updated to  json_recored_file.txt\n"
     ]
    }
   ],
   "source": [
    "PEA_NLP.updateRecorded( )"
   ]
  },
  {
   "cell_type": "code",
   "execution_count": 8,
   "metadata": {},
   "outputs": [
    {
     "data": {
      "text/plain": [
       "{'0000': ['initial'],\n",
       " 'E001': [{'Agent': ['ผม', 'ท่าน'],\n",
       "   'Action': ['ขอ'],\n",
       "   'Theme': ['คุย', 'หัวหน้านะครับ'],\n",
       "   'Location': [],\n",
       "   'Temporal': ['พรุ่งนี้', 'พรุ่งนี้'],\n",
       "   'Timestamp': ['2020-05-20']}]}"
      ]
     },
     "execution_count": 8,
     "metadata": {},
     "output_type": "execute_result"
    }
   ],
   "source": [
    "PEA_NLP.display_recorded(txt_path )"
   ]
  },
  {
   "cell_type": "markdown",
   "metadata": {},
   "source": [
    "### Input again!"
   ]
  },
  {
   "cell_type": "code",
   "execution_count": 9,
   "metadata": {},
   "outputs": [
    {
     "name": "stdout",
     "output_type": "stream",
     "text": [
      "userId:  U99648c35cb84f0ab7ca8e22bf2b375f7\n",
      "Auto report file : \n",
      " {'0000': ['initial'], 'E001': [{'Agent': ['ผม', 'ท่าน'], 'Action': ['ขอ'], 'Theme': ['คุย', 'หัวหน้านะครับ'], 'Location': [], 'Temporal': ['พรุ่งนี้', 'พรุ่งนี้'], 'Timestamp': ['2020-05-20']}]}\n",
      "NLP Thai PEA is ready!!\n",
      "------------------------------------------------------------------------------\n",
      "The record has been updated to  json_recored_file.txt\n"
     ]
    },
    {
     "data": {
      "text/plain": [
       "{'0000': ['initial'],\n",
       " 'E001': [{'Agent': ['ผม', 'ท่าน'],\n",
       "   'Action': ['ขอ'],\n",
       "   'Theme': ['คุย', 'หัวหน้านะครับ'],\n",
       "   'Location': [],\n",
       "   'Temporal': ['พรุ่งนี้', 'พรุ่งนี้'],\n",
       "   'Timestamp': ['2020-05-20']}],\n",
       " 'E002': [{'Agent': ['ผม'],\n",
       "   'Action': ['ยังไง', 'รบกวน', 'มี', 'ประชุม'],\n",
       "   'Theme': ['แจ้งกระผม', 'นะครับ', 'พอดี', 'แม่น้ำ'],\n",
       "   'Location': [],\n",
       "   'Temporal': [],\n",
       "   'Timestamp': ['2020-05-20']}]}"
      ]
     },
     "execution_count": 9,
     "metadata": {},
     "output_type": "execute_result"
    }
   ],
   "source": [
    "message = \"ถ้ายังไงรบกวนแจ้งกระผมล่วงหน้านะครับ พอดีผมมีประชุมที่กลางแม่น้ำ\"\n",
    "PEA_NLP = NLP_THAI_PEA(message , JS_timestamp_ms , userId , txt_path )\n",
    "PEA_NLP.updateRecorded()\n",
    "PEA_NLP.display_recorded(txt_path )"
   ]
  },
  {
   "cell_type": "markdown",
   "metadata": {},
   "source": [
    "### Input again!"
   ]
  },
  {
   "cell_type": "code",
   "execution_count": 10,
   "metadata": {},
   "outputs": [
    {
     "name": "stdout",
     "output_type": "stream",
     "text": [
      "userId:  U99648c35cb84f0ab7ca8e22bf2b375f7\n",
      "Auto report file : \n",
      " {'0000': ['initial'], 'E001': [{'Agent': ['ผม', 'ท่าน'], 'Action': ['ขอ'], 'Theme': ['คุย', 'หัวหน้านะครับ'], 'Location': [], 'Temporal': ['พรุ่งนี้', 'พรุ่งนี้'], 'Timestamp': ['2020-05-20']}], 'E002': [{'Agent': ['ผม'], 'Action': ['ยังไง', 'รบกวน', 'มี', 'ประชุม'], 'Theme': ['แจ้งกระผม', 'นะครับ', 'พอดี', 'แม่น้ำ'], 'Location': [], 'Temporal': [], 'Timestamp': ['2020-05-20']}]}\n",
      "NLP Thai PEA is ready!!\n",
      "------------------------------------------------------------------------------\n",
      "The record has been updated to  json_recored_file.txt\n"
     ]
    },
    {
     "data": {
      "text/plain": [
       "{'0000': ['initial'],\n",
       " 'E001': [{'Agent': ['ผม', 'ท่าน'],\n",
       "   'Action': ['ขอ'],\n",
       "   'Theme': ['คุย', 'หัวหน้านะครับ'],\n",
       "   'Location': [],\n",
       "   'Temporal': ['พรุ่งนี้', 'พรุ่งนี้'],\n",
       "   'Timestamp': ['2020-05-20']}],\n",
       " 'E002': [{'Agent': ['ผม'],\n",
       "   'Action': ['ยังไง', 'รบกวน', 'มี', 'ประชุม'],\n",
       "   'Theme': ['แจ้งกระผม', 'นะครับ', 'พอดี', 'แม่น้ำ'],\n",
       "   'Location': [],\n",
       "   'Temporal': [],\n",
       "   'Timestamp': ['2020-05-20']}],\n",
       " 'E003': [{'Agent': [],\n",
       "   'Action': ['ขอ'],\n",
       "   'Theme': ['เสียงรถด่วนขบวน', 'วุ่นวาย', 'ตามสบาย', 'เถอะ'],\n",
       "   'Location': [],\n",
       "   'Temporal': [],\n",
       "   'Timestamp': ['2020-05-20']}]}"
      ]
     },
     "execution_count": 10,
     "metadata": {},
     "output_type": "execute_result"
    }
   ],
   "source": [
    "message = \"เสียงรถด่วนขบวนสุดท้าย จะไม่ขอวุ่นวาย ตามสบาย เถอะหนาา\"\n",
    "PEA_NLP = NLP_THAI_PEA(message , JS_timestamp_ms , userId , txt_path )\n",
    "PEA_NLP.updateRecorded()\n",
    "PEA_NLP.display_recorded(txt_path )"
   ]
  },
  {
   "cell_type": "markdown",
   "metadata": {},
   "source": [
    "### Get last Event ID"
   ]
  },
  {
   "cell_type": "code",
   "execution_count": 11,
   "metadata": {},
   "outputs": [
    {
     "data": {
      "text/plain": [
       "'E003'"
      ]
     },
     "execution_count": 11,
     "metadata": {},
     "output_type": "execute_result"
    }
   ],
   "source": [
    "txt_path  = r\"json_recored_file.txt\"\n",
    "data = PEA_NLP.loadTxt(txt_path)\n",
    "PEA_NLP.getEventID(data)"
   ]
  },
  {
   "cell_type": "markdown",
   "metadata": {},
   "source": [
    "### Display the data in the text file"
   ]
  },
  {
   "cell_type": "code",
   "execution_count": 12,
   "metadata": {},
   "outputs": [
    {
     "name": "stdout",
     "output_type": "stream",
     "text": [
      "{'0000': ['initial'], 'E001': [{'Agent': ['ผม', 'ท่าน'], 'Action': ['ขอ'], 'Theme': ['คุย', 'หัวหน้านะครับ'], 'Location': [], 'Temporal': ['พรุ่งนี้', 'พรุ่งนี้'], 'Timestamp': ['2020-05-20']}], 'E002': [{'Agent': ['ผม'], 'Action': ['ยังไง', 'รบกวน', 'มี', 'ประชุม'], 'Theme': ['แจ้งกระผม', 'นะครับ', 'พอดี', 'แม่น้ำ'], 'Location': [], 'Temporal': [], 'Timestamp': ['2020-05-20']}], 'E003': [{'Agent': [], 'Action': ['ขอ'], 'Theme': ['เสียงรถด่วนขบวน', 'วุ่นวาย', 'ตามสบาย', 'เถอะ'], 'Location': [], 'Temporal': [], 'Timestamp': ['2020-05-20']}]}\n"
     ]
    }
   ],
   "source": [
    "txt_path  = r\"json_recored_file.txt\"\n",
    "data = PEA_NLP.loadTxt(txt_path)\n",
    "print(data)"
   ]
  },
  {
   "cell_type": "markdown",
   "metadata": {},
   "source": [
    "### Last data"
   ]
  },
  {
   "cell_type": "code",
   "execution_count": 13,
   "metadata": {},
   "outputs": [
    {
     "data": {
      "text/plain": [
       "[{'Agent': [],\n",
       "  'Action': ['ขอ'],\n",
       "  'Theme': ['เสียงรถด่วนขบวน', 'วุ่นวาย', 'ตามสบาย', 'เถอะ'],\n",
       "  'Location': [],\n",
       "  'Temporal': [],\n",
       "  'Timestamp': ['2020-05-20']}]"
      ]
     },
     "execution_count": 13,
     "metadata": {},
     "output_type": "execute_result"
    }
   ],
   "source": [
    "data[PEA_NLP.getEventID(data)]"
   ]
  },
  {
   "cell_type": "code",
   "execution_count": null,
   "metadata": {},
   "outputs": [],
   "source": []
  }
 ],
 "metadata": {
  "kernelspec": {
   "display_name": "Python 3",
   "language": "python",
   "name": "python3"
  },
  "language_info": {
   "codemirror_mode": {
    "name": "ipython",
    "version": 3
   },
   "file_extension": ".py",
   "mimetype": "text/x-python",
   "name": "python",
   "nbconvert_exporter": "python",
   "pygments_lexer": "ipython3",
   "version": "3.6.5"
  },
  "toc": {
   "base_numbering": 1,
   "nav_menu": {},
   "number_sections": true,
   "sideBar": true,
   "skip_h1_title": false,
   "title_cell": "Table of Contents",
   "title_sidebar": "Contents",
   "toc_cell": false,
   "toc_position": {},
   "toc_section_display": true,
   "toc_window_display": false
  }
 },
 "nbformat": 4,
 "nbformat_minor": 2
}
