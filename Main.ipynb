{
 "cells": [
  {
   "cell_type": "code",
   "execution_count": 1,
   "metadata": {},
   "outputs": [
    {
     "name": "stdout",
     "output_type": "stream",
     "text": [
      "Collecting https://github.com/PyThaiNLP/pythainlp/archive/dev.zip\n",
      "  Using cached https://github.com/PyThaiNLP/pythainlp/archive/dev.zip\n",
      "Requirement already satisfied (use --upgrade to upgrade): pythainlp==2.2.0.dev1 from https://github.com/PyThaiNLP/pythainlp/archive/dev.zip in c:\\programdata\\anaconda3\\lib\\site-packages\n",
      "Requirement already satisfied: dill>=0.3.0 in c:\\programdata\\anaconda3\\lib\\site-packages (from pythainlp==2.2.0.dev1) (0.3.1.1)\n",
      "Requirement already satisfied: nltk>=3.3 in c:\\programdata\\anaconda3\\lib\\site-packages (from pythainlp==2.2.0.dev1) (3.4.5)\n",
      "Requirement already satisfied: python-crfsuite>=0.9.6 in c:\\programdata\\anaconda3\\lib\\site-packages (from pythainlp==2.2.0.dev1) (0.9.7)\n",
      "Requirement already satisfied: requests>=2.22.0 in c:\\programdata\\anaconda3\\lib\\site-packages (from pythainlp==2.2.0.dev1) (2.22.0)\n",
      "Requirement already satisfied: tinydb>=3.0 in c:\\programdata\\anaconda3\\lib\\site-packages (from pythainlp==2.2.0.dev1) (4.1.1)\n",
      "Requirement already satisfied: tqdm>=4.1 in c:\\programdata\\anaconda3\\lib\\site-packages (from pythainlp==2.2.0.dev1) (4.36.1)\n",
      "Requirement already satisfied: six in c:\\programdata\\anaconda3\\lib\\site-packages (from nltk>=3.3->pythainlp==2.2.0.dev1) (1.12.0)\n",
      "Requirement already satisfied: idna<2.9,>=2.5 in c:\\programdata\\anaconda3\\lib\\site-packages (from requests>=2.22.0->pythainlp==2.2.0.dev1) (2.8)\n",
      "Requirement already satisfied: urllib3!=1.25.0,!=1.25.1,<1.26,>=1.21.1 in c:\\programdata\\anaconda3\\lib\\site-packages (from requests>=2.22.0->pythainlp==2.2.0.dev1) (1.24.2)\n",
      "Requirement already satisfied: chardet<3.1.0,>=3.0.2 in c:\\programdata\\anaconda3\\lib\\site-packages (from requests>=2.22.0->pythainlp==2.2.0.dev1) (3.0.4)\n",
      "Requirement already satisfied: certifi>=2017.4.17 in c:\\programdata\\anaconda3\\lib\\site-packages (from requests>=2.22.0->pythainlp==2.2.0.dev1) (2019.9.11)\n",
      "Building wheels for collected packages: pythainlp\n",
      "  Building wheel for pythainlp (setup.py): started\n",
      "  Building wheel for pythainlp (setup.py): finished with status 'done'\n",
      "  Created wheel for pythainlp: filename=pythainlp-2.2.0.dev1-cp37-none-any.whl size=13175656 sha256=a5782b135f68329431f430e7b03ffdcbdeba20b383c4beacacb48f39f9f8e226\n",
      "  Stored in directory: C:\\Users\\StevTobs\\AppData\\Local\\Temp\\pip-ephem-wheel-cache-phcwkxuf\\wheels\\79\\4e\\1e\\26f3198c6712ecfbee92928ed1dde923a078da3d222401cc78\n",
      "Successfully built pythainlp\n",
      "Collecting epitran\n",
      "  Using cached https://files.pythonhosted.org/packages/00/ce/ebf70bb24f220c628d4ce1e153c07e95f59132a1d882b586427ade2b1b3d/epitran-1.8-py2.py3-none-any.whl\n",
      "Collecting marisa-trie (from epitran)\n",
      "  Using cached https://files.pythonhosted.org/packages/20/95/d23071d0992dabcb61c948fb118a90683193befc88c23e745b050a29e7db/marisa-trie-0.7.5.tar.gz\n",
      "Collecting panphon>=0.16 (from epitran)\n",
      "  Using cached https://files.pythonhosted.org/packages/ef/25/935f443f0a2cce5d7a4b6b0d9101c990a6f3c74702c02287d4addd3fe009/panphon-0.17-py2.py3-none-any.whl\n",
      "Requirement already satisfied: unicodecsv in c:\\programdata\\anaconda3\\lib\\site-packages (from epitran) (0.14.1)\n",
      "Requirement already satisfied: setuptools in c:\\programdata\\anaconda3\\lib\\site-packages (from epitran) (41.4.0)\n",
      "Requirement already satisfied: regex in c:\\programdata\\anaconda3\\lib\\site-packages (from epitran) (2020.5.14)\n",
      "Collecting munkres (from panphon>=0.16->epitran)\n",
      "  Using cached https://files.pythonhosted.org/packages/64/97/61ddc63578870e04db6eb1d3bee58ad4e727f682068a7c7405edb8b2cdeb/munkres-1.1.2-py2.py3-none-any.whl\n",
      "Requirement already satisfied: PyYAML in c:\\programdata\\anaconda3\\lib\\site-packages (from panphon>=0.16->epitran) (5.1.2)\n",
      "Collecting editdistance (from panphon>=0.16->epitran)\n",
      "  Using cached https://files.pythonhosted.org/packages/5a/21/3178b32699c94aff68239372e30e01b2707f6b5438d8732d4356162fa3b1/editdistance-0.5.3-cp37-cp37m-win_amd64.whl\n",
      "Requirement already satisfied: numpy in c:\\programdata\\anaconda3\\lib\\site-packages (from panphon>=0.16->epitran) (1.16.5)\n",
      "Building wheels for collected packages: marisa-trie\n",
      "  Building wheel for marisa-trie (setup.py): started\n",
      "  Building wheel for marisa-trie (setup.py): finished with status 'error'\n",
      "  Running setup.py clean for marisa-trie\n",
      "Failed to build marisa-trie\n",
      "Installing collected packages: marisa-trie, munkres, editdistance, panphon, epitran\n",
      "  Running setup.py install for marisa-trie: started\n",
      "    Running setup.py install for marisa-trie: finished with status 'error'\n"
     ]
    },
    {
     "name": "stderr",
     "output_type": "stream",
     "text": [
      "  ERROR: Command errored out with exit status 1:\n",
      "   command: 'C:\\ProgramData\\Anaconda3\\python.exe' -u -c 'import sys, setuptools, tokenize; sys.argv[0] = '\"'\"'C:\\\\Users\\\\StevTobs\\\\AppData\\\\Local\\\\Temp\\\\pip-install-rwc2vqc2\\\\marisa-trie\\\\setup.py'\"'\"'; __file__='\"'\"'C:\\\\Users\\\\StevTobs\\\\AppData\\\\Local\\\\Temp\\\\pip-install-rwc2vqc2\\\\marisa-trie\\\\setup.py'\"'\"';f=getattr(tokenize, '\"'\"'open'\"'\"', open)(__file__);code=f.read().replace('\"'\"'\\r\\n'\"'\"', '\"'\"'\\n'\"'\"');f.close();exec(compile(code, __file__, '\"'\"'exec'\"'\"'))' bdist_wheel -d 'C:\\Users\\StevTobs\\AppData\\Local\\Temp\\pip-wheel-x16uibnj' --python-tag cp37\n",
      "       cwd: C:\\Users\\StevTobs\\AppData\\Local\\Temp\\pip-install-rwc2vqc2\\marisa-trie\\\n",
      "  Complete output (5 lines):\n",
      "  running bdist_wheel\n",
      "  running build\n",
      "  running build_clib\n",
      "  building 'libmarisa-trie' library\n",
      "  error: Microsoft Visual C++ 14.0 is required. Get it with \"Microsoft Visual C++ Build Tools\": https://visualstudio.microsoft.com/downloads/\n",
      "  ----------------------------------------\n",
      "  ERROR: Failed building wheel for marisa-trie\n",
      "    ERROR: Command errored out with exit status 1:\n",
      "     command: 'C:\\ProgramData\\Anaconda3\\python.exe' -u -c 'import sys, setuptools, tokenize; sys.argv[0] = '\"'\"'C:\\\\Users\\\\StevTobs\\\\AppData\\\\Local\\\\Temp\\\\pip-install-rwc2vqc2\\\\marisa-trie\\\\setup.py'\"'\"'; __file__='\"'\"'C:\\\\Users\\\\StevTobs\\\\AppData\\\\Local\\\\Temp\\\\pip-install-rwc2vqc2\\\\marisa-trie\\\\setup.py'\"'\"';f=getattr(tokenize, '\"'\"'open'\"'\"', open)(__file__);code=f.read().replace('\"'\"'\\r\\n'\"'\"', '\"'\"'\\n'\"'\"');f.close();exec(compile(code, __file__, '\"'\"'exec'\"'\"'))' install --record 'C:\\Users\\StevTobs\\AppData\\Local\\Temp\\pip-record-mk2c08rc\\install-record.txt' --single-version-externally-managed --compile\n",
      "         cwd: C:\\Users\\StevTobs\\AppData\\Local\\Temp\\pip-install-rwc2vqc2\\marisa-trie\\\n",
      "    Complete output (5 lines):\n",
      "    running install\n",
      "    running build\n",
      "    running build_clib\n",
      "    building 'libmarisa-trie' library\n",
      "    error: Microsoft Visual C++ 14.0 is required. Get it with \"Microsoft Visual C++ Build Tools\": https://visualstudio.microsoft.com/downloads/\n",
      "    ----------------------------------------\n",
      "ERROR: Command errored out with exit status 1: 'C:\\ProgramData\\Anaconda3\\python.exe' -u -c 'import sys, setuptools, tokenize; sys.argv[0] = '\"'\"'C:\\\\Users\\\\StevTobs\\\\AppData\\\\Local\\\\Temp\\\\pip-install-rwc2vqc2\\\\marisa-trie\\\\setup.py'\"'\"'; __file__='\"'\"'C:\\\\Users\\\\StevTobs\\\\AppData\\\\Local\\\\Temp\\\\pip-install-rwc2vqc2\\\\marisa-trie\\\\setup.py'\"'\"';f=getattr(tokenize, '\"'\"'open'\"'\"', open)(__file__);code=f.read().replace('\"'\"'\\r\\n'\"'\"', '\"'\"'\\n'\"'\"');f.close();exec(compile(code, __file__, '\"'\"'exec'\"'\"'))' install --record 'C:\\Users\\StevTobs\\AppData\\Local\\Temp\\pip-record-mk2c08rc\\install-record.txt' --single-version-externally-managed --compile Check the logs for full command output.\n"
     ]
    },
    {
     "name": "stdout",
     "output_type": "stream",
     "text": [
      "Requirement already satisfied: sklearn_crfsuite in c:\\programdata\\anaconda3\\lib\\site-packages (0.3.6)\n",
      "Requirement already satisfied: tqdm>=2.0 in c:\\programdata\\anaconda3\\lib\\site-packages (from sklearn_crfsuite) (4.36.1)\n",
      "Requirement already satisfied: six in c:\\programdata\\anaconda3\\lib\\site-packages (from sklearn_crfsuite) (1.12.0)\n",
      "Requirement already satisfied: tabulate in c:\\programdata\\anaconda3\\lib\\site-packages (from sklearn_crfsuite) (0.8.7)\n",
      "Requirement already satisfied: python-crfsuite>=0.8.3 in c:\\programdata\\anaconda3\\lib\\site-packages (from sklearn_crfsuite) (0.9.7)\n"
     ]
    }
   ],
   "source": [
    "\n",
    "# # uncomment if running from colab\n",
    "# !pip install https://github.com/PyThaiNLP/pythainlp/archive/dev.zip\n",
    "# !pip install epitran\n",
    "# !pip install sklearn_crfsuite"
   ]
  },
  {
   "cell_type": "code",
   "execution_count": 10,
   "metadata": {},
   "outputs": [
    {
     "data": {
      "text/plain": [
       "'2.2.0-dev1'"
      ]
     },
     "execution_count": 10,
     "metadata": {},
     "output_type": "execute_result"
    }
   ],
   "source": [
    "\n",
    "import pythainlp\n",
    "import pandas as pd\n",
    "import numpy as np\n",
    "from pythainlp.tag.named_entity import ThaiNameTagger\n",
    "\n",
    "NameEntity = ThaiNameTagger()\n",
    "from numpy.random import randn\n",
    "np.random.seed(101) \n",
    "pythainlp.__version__"
   ]
  },
  {
   "cell_type": "markdown",
   "metadata": {},
   "source": [
    "## Functions"
   ]
  },
  {
   "cell_type": "code",
   "execution_count": 151,
   "metadata": {},
   "outputs": [],
   "source": [
    "def concadDf(df1, df2):\n",
    "  \n",
    "  frames = [df1, df2]\n",
    "  result = pd.concat(frames)\n",
    "  return result\n",
    "\n",
    "\n",
    "def getAction(   word_dmm ):\n",
    "\n",
    "    word_verb = []\n",
    "\n",
    "    for i in range( len( word_dmm ) ):\n",
    "        if word_dmm[i][1] == 'VERB':\n",
    "            word_verb.append(word_dmm[i][0])\n",
    "\n",
    "    return word_verb  \n",
    "\n",
    "\n",
    "def getLocation(   word_dmm ):\n",
    "    print(len(word_dmm))\n",
    "    word_loc = []\n",
    "    check_Last_B_location = False\n",
    "    for i in range( len( word_dmm ) ):\n",
    "\n",
    "        if len( word_dmm[i]) > 1 and check_Last_B_location :\n",
    "            if( word_dmm[i][2] == 'I-LOCATION'):\n",
    "                word_loc[-1] = word_loc[-1] + word_dmm[i][0]\n",
    "      \n",
    "            \n",
    "        if word_dmm[i][2] == 'B-LOCATION':\n",
    "            word_loc.append(word_dmm[i][0])\n",
    "            \n",
    "            check_Last_B_location = True\n",
    "        else :\n",
    "            check_Last_B_location = False\n",
    "        \n",
    "        if word_dmm[i][2] == 'I-LOCATION':\n",
    "            check_Last_B_location = True\n",
    "\n",
    "    return word_loc    "
   ]
  },
  {
   "cell_type": "markdown",
   "metadata": {},
   "source": [
    "Dataframs format"
   ]
  },
  {
   "cell_type": "code",
   "execution_count": 152,
   "metadata": {},
   "outputs": [],
   "source": [
    "df = pd.DataFrame(np.empty((1,6)),index='initial'.split(),columns='Event Action Agent Theme Location Temporal'.split())"
   ]
  },
  {
   "cell_type": "code",
   "execution_count": 137,
   "metadata": {},
   "outputs": [
    {
     "data": {
      "text/html": [
       "<div>\n",
       "<style scoped>\n",
       "    .dataframe tbody tr th:only-of-type {\n",
       "        vertical-align: middle;\n",
       "    }\n",
       "\n",
       "    .dataframe tbody tr th {\n",
       "        vertical-align: top;\n",
       "    }\n",
       "\n",
       "    .dataframe thead th {\n",
       "        text-align: right;\n",
       "    }\n",
       "</style>\n",
       "<table border=\"1\" class=\"dataframe\">\n",
       "  <thead>\n",
       "    <tr style=\"text-align: right;\">\n",
       "      <th></th>\n",
       "      <th>Event</th>\n",
       "      <th>Action</th>\n",
       "      <th>Agent</th>\n",
       "      <th>Theme</th>\n",
       "      <th>Location</th>\n",
       "      <th>Temporal</th>\n",
       "    </tr>\n",
       "  </thead>\n",
       "  <tbody>\n",
       "    <tr>\n",
       "      <td>initial</td>\n",
       "      <td>0.0</td>\n",
       "      <td>0.0</td>\n",
       "      <td>0.0</td>\n",
       "      <td>0.0</td>\n",
       "      <td>0.0</td>\n",
       "      <td>0.0</td>\n",
       "    </tr>\n",
       "    <tr>\n",
       "      <td>initial-2</td>\n",
       "      <td>0.0</td>\n",
       "      <td>0.0</td>\n",
       "      <td>0.0</td>\n",
       "      <td>0.0</td>\n",
       "      <td>0.0</td>\n",
       "      <td>0.0</td>\n",
       "    </tr>\n",
       "  </tbody>\n",
       "</table>\n",
       "</div>"
      ],
      "text/plain": [
       "           Event  Action  Agent  Theme  Location  Temporal\n",
       "initial      0.0     0.0    0.0    0.0       0.0       0.0\n",
       "initial-2    0.0     0.0    0.0    0.0       0.0       0.0"
      ]
     },
     "execution_count": 137,
     "metadata": {},
     "output_type": "execute_result"
    }
   ],
   "source": [
    "#test concate\n",
    "df2 = pd.DataFrame(np.zeros((1,6)),index='initial-2'.split(),columns='Event Action Agent Theme Location Temporal'.split())\n",
    "concadDf(df, df2)"
   ]
  },
  {
   "cell_type": "code",
   "execution_count": 143,
   "metadata": {
    "scrolled": true
   },
   "outputs": [],
   "source": [
    "# inputTxt = input()\n",
    "inputTxt =\"พ.ต.ท.เสน่ห์ อุโคตร พนักงานสอบสวนเวร สภ.ท้ายเหมือง จ.พังงา ได้รับแจ้งเหตุฆาตกรรมในพื้นที่ตำบลบางทอง มีคนเสียชีวิตและบาดเจ็บหลายราย จึงออกตรวจสอบพร้อมด้วยพ.ต.อ.วีรยุทธ สิทธิรัตนกุล ผกก.สภ.ท้ายเหมือง พ.ต.อ.วชิรา ละเอียดศิลป์ หัวหน้าพิสูจน์หลักฐานจังหวัดพังงา ชุดสืบสวนตำรวจภูธรภาค 8 และหน่วยกู้ภัยบางทองที่เกิดเหตุ ม.2 บ้านบางทองเหนือ ต.บางทอง อ.ท้ายเหมือง จ.พังงา พบศพนายประสาน อายุ 83 ปี และนางอ่อน อายุ 77 ปี นอนตายจมในกองเลือดอยู่บริเวณหน้าบ้าน สภาพศพมีบาดแผลถูกฟันด้วยของมีคมเหวอะหวะทั่วร่างกายท่อนบน ด้านคนก่อเหตุนั้นชื่อนายศุภชัย อายุ 33 ปี ซึ่งเป็นลูกเลี้ยงและหลานของผู้ตาย ชาวบ้านใกล้เคียงได้จับกุมตัวไว้ได้ขณะกำลังไปทำร้ายเพื่อนบ้านใกล้เคียง ทางเจ้าหน้าที่เก็บพยานหลักฐานในที่เกิดเหตุและนำศพส่งชันสูตรที่โรงพยาบาลท้ายเหมืองชัยพัฒน์ ก่อนมอบให้ญาตินำไปทำพิธีทางศาสนาต่อไปสอบสวนเบื้องต้น นางสมพร ผลจันทร์ อายุ 53 ปี ซึ่งเป็นแม่ของผู้ก่อเหตุ เป็นภรรยาของนายประสานผู้ตาย และเป็นลูกสาวของนางอ่อนผู้ตาย ได้ให้ข้อมูลว่า ทั้งหมดได้อาศัยอยู่ในบ้านหลังเดียวกันซึ่งได้ขยายห้องเพิ่มขึ้นด้านข้างขณะเกิดเหตุตนเองไปกรีดยางพาราอยู่ในสวน เมื่อกลับมาก็สงสัยว่าทำไมมีเพื่อนบ้านมาที่บ้านเต็มไปหมดและเมื่อได้เห็นศพของสามีและแม่ที่นอนตายจมกองเลือดอยู่ ก็ตกใจจนเกือบช็อกไม่คาดคิดว่าจะเกิดเหตุการณ์ร้ายแบบนี้ โดยผู้ก่อเหตุเป็นลูกชายที่ติดมาจากสามีเก่า เป็นคนที่ติดสุรางอมแงม เมาครั้งละ 3-4 วัน มีพฤติกรรมคลุ้มคลั่งทำลายข้าวของเป็นบางครั้ง หลอนเป็นบางครั้ง เคยพาไปหาหมอให้รักษา เมื่อได้รับยามา ก็กินบ้างไม่กินบ้าง ถ้าไม่เมาก็จะไปช่วยกรีดยางบ้าง เมื่อคืนที่ผ่านมาเห็นอาการไม่ค่อยดี จึงไม่ชวนไปกรีดยาง และตนได้บอกแม่ว่าให้ดูไว้ด้วยว่าลูกชายแปลกๆ เมื่อกรีดยางเสร็จกลับมาถึงบ้านก็พบเหตุการณ์ร้ายนี้\""
   ]
  },
  {
   "cell_type": "code",
   "execution_count": 144,
   "metadata": {},
   "outputs": [
    {
     "name": "stdout",
     "output_type": "stream",
     "text": [
      "[('พ.ต.ท.', 'NOUN', 'B-PERSON'), ('เสน่ห์', 'NOUN', 'I-PERSON'), (' ', 'PUNCT', 'I-PERSON'), ('อุ', 'NOUN', 'I-PERSON'), ('โคตร', 'NOUN', 'I-PERSON'), (' ', 'PUNCT', 'I-PERSON'), ('พนักงานสอบสวน', 'NOUN', 'I-PERSON'), ('เวร', 'NOUN', 'I-PERSON'), (' ', 'PUNCT', 'O'), ('สภ.', 'NOUN', 'B-ORGANIZATION'), ('ท้าย', 'NOUN', 'I-ORGANIZATION'), ('เหมือง', 'NOUN', 'I-ORGANIZATION'), (' ', 'PUNCT', 'O'), ('จ.', 'NOUN', 'B-LOCATION'), ('พังงา', 'NOUN', 'I-LOCATION'), (' ', 'PUNCT', 'O'), ('ได้รับ', 'VERB', 'O'), ('แจ้งเหตุ', 'NOUN', 'O'), ('ฆาตกรรม', 'NOUN', 'O'), ('ใน', 'ADP', 'O'), ('พื้นที่', 'NOUN', 'O'), ('ตำบล', 'NOUN', 'B-LOCATION'), ('บาง', 'DET', 'I-LOCATION'), ('ทอง', 'NOUN', 'I-LOCATION'), (' ', 'PUNCT', 'O'), ('มี', 'VERB', 'O'), ('คน', 'NOUN', 'O'), ('เสียชีวิต', 'NOUN', 'O'), ('และ', 'CCONJ', 'O'), ('บาดเจ็บ', 'NOUN', 'O'), ('หลาย', 'DET', 'O'), ('ราย', 'NOUN', 'O'), (' ', 'PUNCT', 'O'), ('จึง', 'AUX', 'O'), ('ออก', 'VERB', 'O'), ('ตรวจสอบ', 'VERB', 'O'), ('พร้อมด้วย', 'ADP', 'O'), ('พ.ต.อ.', 'NOUN', 'B-PERSON'), ('วีร', 'NOUN', 'I-PERSON'), ('ยุทธ', 'NOUN', 'I-PERSON'), (' ', 'PUNCT', 'I-PERSON'), ('สิทธิ', 'NOUN', 'I-PERSON'), ('รัต', 'NOUN', 'I-PERSON'), ('นกุล', 'NOUN', 'I-PERSON'), (' ', 'PUNCT', 'O'), ('ผกก.', 'NOUN', 'O'), ('สภ.', 'NOUN', 'B-ORGANIZATION'), ('ท้าย', 'NOUN', 'I-ORGANIZATION'), ('เหมือง', 'NOUN', 'I-ORGANIZATION'), (' ', 'PUNCT', 'O'), ('พ.ต.อ.', 'NOUN', 'B-PERSON'), ('ว', 'NOUN', 'I-PERSON'), ('ชิ', 'NOUN', 'I-PERSON'), ('รา', 'NOUN', 'I-PERSON'), (' ', 'PUNCT', 'I-PERSON'), ('ละเอียด', 'ADJ', 'I-PERSON'), ('ศิลป์', 'PROPN', 'I-PERSON'), (' ', 'PUNCT', 'O'), ('หัวหน้า', 'NOUN', 'O'), ('พิสูจน์', 'NOUN', 'O'), ('หลักฐาน', 'NOUN', 'O'), ('จังหวัด', 'NOUN', 'B-LOCATION'), ('พังงา', 'NOUN', 'I-LOCATION'), (' ', 'PUNCT', 'O'), ('ชุด', 'NOUN', 'O'), ('สืบสวน', 'NOUN', 'O'), ('ตำรวจภูธร', 'ADP', 'O'), ('ภาค', 'NOUN', 'O'), (' ', 'PUNCT', 'O'), ('8', 'NUM', 'O'), (' ', 'PUNCT', 'O'), ('และ', 'CCONJ', 'O'), ('หน่วยกู้ภัย', 'NOUN', 'B-LOCATION'), ('บาง', 'DET', 'I-LOCATION'), ('ทอง', 'NOUN', 'I-LOCATION'), ('ที่เกิดเหตุ', 'ADJ', 'I-LOCATION'), (' ', 'PUNCT', 'O'), ('ม.', 'NOUN', 'O'), ('2', 'NUM', 'O'), (' ', 'PUNCT', 'O'), ('บ้าน', 'NOUN', 'B-LOCATION'), ('บาง', 'DET', 'I-LOCATION'), ('ทอง', 'NOUN', 'I-LOCATION'), ('เหนือ', 'ADP', 'I-LOCATION'), (' ', 'PUNCT', 'O'), ('ต.', 'NOUN', 'B-LOCATION'), ('บาง', 'DET', 'I-LOCATION'), ('ทอง', 'NOUN', 'I-LOCATION'), (' ', 'PUNCT', 'O'), ('อ.', 'NOUN', 'B-LOCATION'), ('ท้าย', 'ADJ', 'I-LOCATION'), ('เหมือง', 'VERB', 'I-LOCATION'), (' ', 'PUNCT', 'O'), ('จ.', 'NOUN', 'B-LOCATION'), ('พังงา', 'NOUN', 'I-LOCATION'), (' ', 'PUNCT', 'O'), ('พบ', 'VERB', 'O'), ('ศพ', 'NOUN', 'O'), ('นาย', 'NOUN', 'B-PERSON'), ('ประสาน', 'PROPN', 'I-PERSON'), (' ', 'PUNCT', 'O'), ('อายุ', 'NOUN', 'O'), (' ', 'PUNCT', 'O'), ('83', 'NUM', 'B-TIME'), (' ', 'PUNCT', 'I-TIME'), ('ปี', 'NOUN', 'I-TIME'), (' ', 'PUNCT', 'O'), ('และ', 'CCONJ', 'O'), ('นาง', 'NOUN', 'B-PERSON'), ('อ่อน', 'PROPN', 'I-PERSON'), (' ', 'PUNCT', 'O'), ('อายุ', 'NOUN', 'O'), (' ', 'PUNCT', 'O'), ('77', 'NUM', 'O'), (' ', 'PUNCT', 'O'), ('ปี', 'NOUN', 'O'), (' ', 'PUNCT', 'O'), ('นอนตาย', 'VERB', 'O'), ('จม', 'NOUN', 'O'), ('ใน', 'ADP', 'O'), ('กอง', 'NOUN', 'O'), ('เลือด', 'NOUN', 'O'), ('อยู่', 'AUX', 'O'), ('บริเวณ', 'NOUN', 'O'), ('หน้าบ้าน', 'NOUN', 'O'), (' ', 'PUNCT', 'O'), ('สภาพ', 'NOUN', 'O'), ('ศพ', 'NOUN', 'O'), ('มี', 'VERB', 'O'), ('บาดแผล', 'NOUN', 'O'), ('ถูก', 'AUX', 'O'), ('ฟัน', 'VERB', 'O'), ('ด้วย', 'ADP', 'O'), ('ของมีคม', 'NOUN', 'O'), ('เหวอะหวะ', 'NOUN', 'O'), ('ทั่ว', 'ADV', 'O'), ('ร่างกาย', 'NOUN', 'O'), ('ท่อน', 'ADV', 'O'), ('บน', 'ADP', 'O'), (' ', 'PUNCT', 'O'), ('ด้าน', 'NOUN', 'O'), ('คน', 'NOUN', 'O'), ('ก่อเหตุ', 'NOUN', 'O'), ('นั้น', 'DET', 'O'), ('ชื่อ', 'NOUN', 'O'), ('นาย', 'NOUN', 'B-PERSON'), ('ศุภ', 'PROPN', 'I-PERSON'), ('ชัย', 'NOUN', 'I-PERSON'), (' ', 'PUNCT', 'O'), ('อายุ', 'NOUN', 'O'), (' ', 'PUNCT', 'O'), ('33', 'NUM', 'O'), (' ', 'PUNCT', 'O'), ('ปี', 'NOUN', 'O'), (' ', 'PUNCT', 'O'), ('ซึ่ง', 'SCONJ', 'O'), ('เป็น', 'VERB', 'O'), ('ลูกเลี้ยง', 'NOUN', 'O'), ('และ', 'CCONJ', 'O'), ('หลาน', 'NOUN', 'O'), ('ของ', 'ADP', 'O'), ('ผู้ตาย', 'NOUN', 'O'), (' ', 'PUNCT', 'O'), ('ชาวบ้าน', 'NOUN', 'O'), ('ใกล้เคียง', 'VERB', 'O'), ('ได้', 'AUX', 'O'), ('จับกุม', 'VERB', 'O'), ('ตัว', 'NOUN', 'O'), ('ไว้', 'AUX', 'O'), ('ได้', 'AUX', 'O'), ('ขณะ', 'SCONJ', 'O'), ('กำลัง', 'AUX', 'O'), ('ไป', 'VERB', 'O'), ('ทำร้าย', 'VERB', 'O'), ('เพื่อนบ้าน', 'NOUN', 'O'), ('ใกล้เคียง', 'ADP', 'O'), (' ', 'PUNCT', 'O'), ('ทาง', 'ADP', 'O'), ('เจ้าหน้า', 'NOUN', 'O'), ('ที่เก็บ', 'NOUN', 'O'), ('พยานหลักฐาน', 'NOUN', 'O'), ('ใน', 'ADP', 'O'), ('ที่เกิดเหตุ', 'NOUN', 'O'), ('และ', 'CCONJ', 'O'), ('นำ', 'VERB', 'O'), ('ศพ', 'NOUN', 'O'), ('ส่ง', 'VERB', 'O'), ('ชันสูตร', 'NOUN', 'O'), ('ที่', 'SCONJ', 'O'), ('โรงพยาบาล', 'NOUN', 'B-LOCATION'), ('ท้าย', 'ADJ', 'I-LOCATION'), ('เหมือง', 'VERB', 'I-LOCATION'), ('ชัย', 'NOUN', 'I-LOCATION'), ('พัฒน', 'NOUN', 'I-LOCATION'), ('์', 'NOUN', 'I-LOCATION'), (' ', 'PUNCT', 'O'), ('ก่อน', 'SCONJ', 'O'), ('มอบให้', 'VERB', 'O'), ('ญาติ', 'NOUN', 'O'), ('นำ', 'VERB', 'O'), ('ไป', 'AUX', 'O'), ('ทำ', 'VERB', 'O'), ('พิธีทางศาสนา', 'NOUN', 'O'), ('ต่อไป', 'DET', 'O'), ('สอบสวน', 'NOUN', 'O'), ('เบื้องต้น', 'ADJ', 'O'), (' ', 'PUNCT', 'O'), ('นาง', 'NOUN', 'B-PERSON'), ('สม', 'PROPN', 'I-PERSON'), ('พร', 'PROPN', 'I-PERSON'), (' ', 'PUNCT', 'I-PERSON'), ('ผล', 'NOUN', 'I-PERSON'), ('จันทร์', 'PROPN', 'I-PERSON'), (' ', 'PUNCT', 'O'), ('อายุ', 'NOUN', 'O'), (' ', 'PUNCT', 'O'), ('53', 'NUM', 'O'), (' ', 'PUNCT', 'O'), ('ปี', 'NOUN', 'O'), (' ', 'PUNCT', 'O'), ('ซึ่ง', 'SCONJ', 'O'), ('เป็น', 'VERB', 'O'), ('แม่', 'NOUN', 'O'), ('ของ', 'ADP', 'O'), ('ผู้ก่อเหตุ', 'NOUN', 'O'), (' ', 'PUNCT', 'O'), ('เป็น', 'VERB', 'O'), ('ภรรยา', 'NOUN', 'O'), ('ของ', 'ADP', 'O'), ('นาย', 'NOUN', 'B-PERSON'), ('ประสาน', 'VERB', 'I-PERSON'), ('ผู้ตาย', 'NOUN', 'I-PERSON'), (' ', 'PUNCT', 'O'), ('และ', 'CCONJ', 'O'), ('เป็น', 'VERB', 'O'), ('ลูกสาว', 'NOUN', 'O'), ('ของ', 'ADP', 'O'), ('นาง', 'NOUN', 'B-PERSON'), ('อ่อน', 'PROPN', 'I-PERSON'), ('ผู้ตาย', 'NOUN', 'I-PERSON'), (' ', 'PUNCT', 'O'), ('ได้', 'AUX', 'O'), ('ให้', 'VERB', 'O'), ('ข้อมูล', 'NOUN', 'O'), ('ว่า', 'SCONJ', 'O'), (' ', 'PUNCT', 'O'), ('ทั้งหมด', 'DET', 'O'), ('ได้', 'AUX', 'O'), ('อาศัย', 'VERB', 'O'), ('อยู่', 'AUX', 'O'), ('ใน', 'ADP', 'O'), ('บ้าน', 'NOUN', 'O'), ('หลัง', 'ADP', 'O'), ('เดียวกัน', 'DET', 'O'), ('ซึ่ง', 'SCONJ', 'O'), ('ได้', 'AUX', 'O'), ('ขยาย', 'VERB', 'O'), ('ห้อง', 'NOUN', 'O'), ('เพิ่มขึ้น', 'VERB', 'O'), ('ด้าน', 'NOUN', 'O'), ('ข้าง', 'NOUN', 'O'), ('ขณะ', 'NOUN', 'O'), ('เกิดเหตุ', 'VERB', 'O'), ('ตนเอง', 'PRON', 'O'), ('ไป', 'AUX', 'O'), ('กรีด', 'VERB', 'O'), ('ยางพารา', 'AUX', 'O'), ('อยู่', 'VERB', 'O'), ('ใน', 'ADP', 'O'), ('สวน', 'NOUN', 'O'), (' ', 'PUNCT', 'O'), ('เมื่อ', 'SCONJ', 'O'), ('กลับมา', 'VERB', 'O'), ('ก็', 'SCONJ', 'O'), ('สงสัย', 'VERB', 'O'), ('ว่า', 'SCONJ', 'O'), ('ทำไม', 'NOUN', 'O'), ('มี', 'VERB', 'O'), ('เพื่อนบ้าน', 'NOUN', 'O'), ('มา', 'AUX', 'O'), ('ที่', 'ADP', 'O'), ('บ้าน', 'NOUN', 'O'), ('เต็มไปหมด', 'VERB', 'O'), ('และ', 'CCONJ', 'O'), ('เมื่อ', 'SCONJ', 'O'), ('ได้', 'AUX', 'O'), ('เห็น', 'VERB', 'O'), ('ศพ', 'NOUN', 'O'), ('ของ', 'ADP', 'O'), ('สามี', 'NOUN', 'O'), ('และ', 'CCONJ', 'O'), ('แม่', 'NOUN', 'O'), ('ที่', 'SCONJ', 'O'), ('นอนตาย', 'VERB', 'O'), ('จม', 'NOUN', 'O'), ('กอง', 'NOUN', 'O'), ('เลือด', 'NOUN', 'O'), ('อยู่', 'AUX', 'O'), (' ', 'PUNCT', 'O'), ('ก็', 'SCONJ', 'O'), ('ตกใจ', 'VERB', 'O'), ('จน', 'SCONJ', 'O'), ('เกือบ', 'DET', 'O'), ('ช็อก', 'NOUN', 'O'), ('ไม่', 'PART', 'O'), ('คาดคิด', 'VERB', 'O'), ('ว่า', 'SCONJ', 'O'), ('จะ', 'AUX', 'O'), ('เกิด', 'VERB', 'O'), ('เหตุการณ์', 'NOUN', 'O'), ('ร้าย', 'NOUN', 'O'), ('แบบนี้', 'SCONJ', 'O'), (' ', 'PUNCT', 'O'), ('โดย', 'SCONJ', 'O'), ('ผู้ก่อเหตุ', 'NOUN', 'O'), ('เป็น', 'VERB', 'O'), ('ลูกชาย', 'NOUN', 'O'), ('ที่', 'SCONJ', 'O'), ('ติด', 'VERB', 'O'), ('มาจาก', 'PART', 'O'), ('สามี', 'NOUN', 'O'), ('เก่า', 'ADJ', 'O'), (' ', 'PUNCT', 'O'), ('เป็น', 'VERB', 'O'), ('คน', 'NOUN', 'O'), ('ที่', 'SCONJ', 'O'), ('ติดสุรา', 'VERB', 'O'), ('งอมแงม', 'NOUN', 'O'), (' ', 'PUNCT', 'O'), ('เมา', 'NOUN', 'O'), ('ครั้ง', 'NOUN', 'O'), ('ละ', 'ADP', 'O'), (' ', 'PUNCT', 'O'), ('3', 'NUM', 'B-TIME'), ('-', 'PUNCT', 'I-TIME'), ('4', 'NUM', 'I-TIME'), (' ', 'PUNCT', 'I-TIME'), ('วัน', 'NOUN', 'I-TIME'), (' ', 'PUNCT', 'O'), ('มี', 'VERB', 'O'), ('พฤติกรรม', 'NOUN', 'O'), ('คลุ้มคลั่ง', 'NOUN', 'O'), ('ทำลาย', 'DET', 'O'), ('ข้าวของ', 'NOUN', 'O'), ('เป็น', 'VERB', 'O'), ('บางครั้ง', 'NOUN', 'O'), (' ', 'PUNCT', 'O'), ('หลอน', 'NOUN', 'O'), ('เป็น', 'VERB', 'O'), ('บางครั้ง', 'NOUN', 'O'), (' ', 'PUNCT', 'O'), ('เคย', 'AUX', 'O'), ('พา', 'VERB', 'O'), ('ไปหา', 'NOUN', 'O'), ('หมอ', 'NOUN', 'O'), ('ให้', 'ADP', 'O'), ('รักษา', 'VERB', 'O'), (' ', 'PUNCT', 'O'), ('เมื่อ', 'SCONJ', 'O'), ('ได้รับ', 'VERB', 'O'), ('ยามา', 'VERB', 'O'), (' ', 'PUNCT', 'O'), ('ก็', 'SCONJ', 'O'), ('กิน', 'VERB', 'O'), ('บ้าง', 'ADV', 'O'), ('ไม่', 'PART', 'O'), ('กิน', 'VERB', 'O'), ('บ้าง', 'PRON', 'O'), (' ', 'PUNCT', 'O'), ('ถ้า', 'SCONJ', 'O'), ('ไม่', 'PART', 'O'), ('เมา', 'VERB', 'O'), ('ก็', 'SCONJ', 'O'), ('จะ', 'AUX', 'O'), ('ไป', 'VERB', 'O'), ('ช่วย', 'VERB', 'O'), ('กรีด', 'NOUN', 'O'), ('ยาง', 'ADJ', 'O'), ('บ้าง', 'ADV', 'O'), (' ', 'PUNCT', 'O'), ('เมื่อคืน', 'VERB', 'O'), ('ที่ผ่านมา', 'NOUN', 'O'), ('เห็น', 'VERB', 'O'), ('อาการ', 'NOUN', 'O'), ('ไม่ค่อย', 'NOUN', 'O'), ('ดี', 'ADJ', 'O'), (' ', 'PUNCT', 'O'), ('จึง', 'AUX', 'O'), ('ไม่', 'PART', 'O'), ('ชวน', 'VERB', 'O'), ('ไป', 'AUX', 'O'), ('กรีด', 'VERB', 'O'), ('ยาง', 'ADV', 'O'), (' ', 'PUNCT', 'O'), ('และ', 'CCONJ', 'O'), ('ตน', 'NOUN', 'O'), ('ได้', 'AUX', 'O'), ('บอก', 'VERB', 'O'), ('แม่', 'NOUN', 'O'), ('ว่า', 'SCONJ', 'O'), ('ให้', 'VERB', 'O'), ('ดู', 'VERB', 'O'), ('ไว้', 'AUX', 'O'), ('ด้วยว่า', 'SCONJ', 'O'), ('ลูกชาย', 'NOUN', 'O'), ('แปลก', 'NOUN', 'O'), ('ๆ', 'PUNCT', 'O'), (' ', 'PUNCT', 'O'), ('เมื่อ', 'SCONJ', 'O'), ('กรีด', 'VERB', 'O'), ('ยาง', 'VERB', 'O'), ('เสร็จ', 'ADV', 'O'), ('กลับ', 'VERB', 'O'), ('มาถึง', 'ADP', 'O'), ('บ้าน', 'NOUN', 'O'), ('ก็', 'SCONJ', 'O'), ('พบ', 'VERB', 'O'), ('เหตุการณ์', 'NOUN', 'O'), ('ร้าย', 'NOUN', 'O'), ('นี้', 'DET', 'O')]"
     ]
    },
    {
     "name": "stdout",
     "output_type": "stream",
     "text": [
      "\n"
     ]
    }
   ],
   "source": [
    "word_dmm = NameEntity.get_ner(inputTxt)\n",
    "print(word_dmm)"
   ]
  },
  {
   "cell_type": "code",
   "execution_count": 145,
   "metadata": {},
   "outputs": [
    {
     "data": {
      "text/plain": [
       "420"
      ]
     },
     "execution_count": 145,
     "metadata": {},
     "output_type": "execute_result"
    }
   ],
   "source": [
    "len( word_dmm )"
   ]
  },
  {
   "cell_type": "code",
   "execution_count": 146,
   "metadata": {},
   "outputs": [
    {
     "data": {
      "text/plain": [
       "3"
      ]
     },
     "execution_count": 146,
     "metadata": {},
     "output_type": "execute_result"
    }
   ],
   "source": [
    "len( word_dmm[0] )"
   ]
  },
  {
   "cell_type": "code",
   "execution_count": 147,
   "metadata": {},
   "outputs": [
    {
     "data": {
      "text/plain": [
       "'NOUN'"
      ]
     },
     "execution_count": 147,
     "metadata": {},
     "output_type": "execute_result"
    }
   ],
   "source": [
    "word_dmm[1][1]"
   ]
  },
  {
   "cell_type": "code",
   "execution_count": 153,
   "metadata": {},
   "outputs": [
    {
     "data": {
      "text/plain": [
       "['ได้รับ',\n",
       " 'มี',\n",
       " 'ออก',\n",
       " 'ตรวจสอบ',\n",
       " 'เหมือง',\n",
       " 'พบ',\n",
       " 'นอนตาย',\n",
       " 'มี',\n",
       " 'ฟัน',\n",
       " 'เป็น',\n",
       " 'ใกล้เคียง',\n",
       " 'จับกุม',\n",
       " 'ไป',\n",
       " 'ทำร้าย',\n",
       " 'นำ',\n",
       " 'ส่ง',\n",
       " 'เหมือง',\n",
       " 'มอบให้',\n",
       " 'นำ',\n",
       " 'ทำ',\n",
       " 'เป็น',\n",
       " 'เป็น',\n",
       " 'ประสาน',\n",
       " 'เป็น',\n",
       " 'ให้',\n",
       " 'อาศัย',\n",
       " 'ขยาย',\n",
       " 'เพิ่มขึ้น',\n",
       " 'เกิดเหตุ',\n",
       " 'กรีด',\n",
       " 'อยู่',\n",
       " 'กลับมา',\n",
       " 'สงสัย',\n",
       " 'มี',\n",
       " 'เต็มไปหมด',\n",
       " 'เห็น',\n",
       " 'นอนตาย',\n",
       " 'ตกใจ',\n",
       " 'คาดคิด',\n",
       " 'เกิด',\n",
       " 'เป็น',\n",
       " 'ติด',\n",
       " 'เป็น',\n",
       " 'ติดสุรา',\n",
       " 'มี',\n",
       " 'เป็น',\n",
       " 'เป็น',\n",
       " 'พา',\n",
       " 'รักษา',\n",
       " 'ได้รับ',\n",
       " 'ยามา',\n",
       " 'กิน',\n",
       " 'กิน',\n",
       " 'เมา',\n",
       " 'ไป',\n",
       " 'ช่วย',\n",
       " 'เมื่อคืน',\n",
       " 'เห็น',\n",
       " 'ชวน',\n",
       " 'กรีด',\n",
       " 'บอก',\n",
       " 'ให้',\n",
       " 'ดู',\n",
       " 'กรีด',\n",
       " 'ยาง',\n",
       " 'กลับ',\n",
       " 'พบ']"
      ]
     },
     "execution_count": 153,
     "metadata": {},
     "output_type": "execute_result"
    }
   ],
   "source": [
    "getAction( word_dmm )"
   ]
  },
  {
   "cell_type": "code",
   "execution_count": 160,
   "metadata": {},
   "outputs": [
    {
     "name": "stdout",
     "output_type": "stream",
     "text": [
      "420\n"
     ]
    },
    {
     "data": {
      "text/plain": [
       "['จ.พังงา',\n",
       " 'ตำบลบางทอง',\n",
       " 'จังหวัดพังงา',\n",
       " 'หน่วยกู้ภัยบางทองที่เกิดเหตุ',\n",
       " 'บ้านบางทองเหนือ',\n",
       " 'ต.บางทอง',\n",
       " 'อ.ท้ายเหมือง',\n",
       " 'จ.พังงา',\n",
       " 'โรงพยาบาลท้ายเหมืองชัยพัฒน์']"
      ]
     },
     "execution_count": 160,
     "metadata": {},
     "output_type": "execute_result"
    }
   ],
   "source": [
    "getLocation( word_dmm )"
   ]
  },
  {
   "cell_type": "code",
   "execution_count": 161,
   "metadata": {
    "scrolled": true
   },
   "outputs": [
    {
     "name": "stdout",
     "output_type": "stream",
     "text": [
      "420\n"
     ]
    }
   ],
   "source": [
    "# pd.DataFrame.from_dict({'a': a, 'b': b}, orient='index').T\n",
    "df_res = pd.DataFrame.from_dict({  'Action': getAction( word_dmm ), 'Location': getLocation( word_dmm ) }, orient='index').T"
   ]
  },
  {
   "cell_type": "code",
   "execution_count": 162,
   "metadata": {},
   "outputs": [
    {
     "data": {
      "text/html": [
       "<div>\n",
       "<style scoped>\n",
       "    .dataframe tbody tr th:only-of-type {\n",
       "        vertical-align: middle;\n",
       "    }\n",
       "\n",
       "    .dataframe tbody tr th {\n",
       "        vertical-align: top;\n",
       "    }\n",
       "\n",
       "    .dataframe thead th {\n",
       "        text-align: right;\n",
       "    }\n",
       "</style>\n",
       "<table border=\"1\" class=\"dataframe\">\n",
       "  <thead>\n",
       "    <tr style=\"text-align: right;\">\n",
       "      <th></th>\n",
       "      <th>Action</th>\n",
       "      <th>Location</th>\n",
       "    </tr>\n",
       "  </thead>\n",
       "  <tbody>\n",
       "    <tr>\n",
       "      <td>0</td>\n",
       "      <td>ได้รับ</td>\n",
       "      <td>จ.พังงา</td>\n",
       "    </tr>\n",
       "    <tr>\n",
       "      <td>1</td>\n",
       "      <td>มี</td>\n",
       "      <td>ตำบลบางทอง</td>\n",
       "    </tr>\n",
       "    <tr>\n",
       "      <td>2</td>\n",
       "      <td>ออก</td>\n",
       "      <td>จังหวัดพังงา</td>\n",
       "    </tr>\n",
       "    <tr>\n",
       "      <td>3</td>\n",
       "      <td>ตรวจสอบ</td>\n",
       "      <td>หน่วยกู้ภัยบางทองที่เกิดเหตุ</td>\n",
       "    </tr>\n",
       "    <tr>\n",
       "      <td>4</td>\n",
       "      <td>เหมือง</td>\n",
       "      <td>บ้านบางทองเหนือ</td>\n",
       "    </tr>\n",
       "    <tr>\n",
       "      <td>...</td>\n",
       "      <td>...</td>\n",
       "      <td>...</td>\n",
       "    </tr>\n",
       "    <tr>\n",
       "      <td>62</td>\n",
       "      <td>ดู</td>\n",
       "      <td>None</td>\n",
       "    </tr>\n",
       "    <tr>\n",
       "      <td>63</td>\n",
       "      <td>กรีด</td>\n",
       "      <td>None</td>\n",
       "    </tr>\n",
       "    <tr>\n",
       "      <td>64</td>\n",
       "      <td>ยาง</td>\n",
       "      <td>None</td>\n",
       "    </tr>\n",
       "    <tr>\n",
       "      <td>65</td>\n",
       "      <td>กลับ</td>\n",
       "      <td>None</td>\n",
       "    </tr>\n",
       "    <tr>\n",
       "      <td>66</td>\n",
       "      <td>พบ</td>\n",
       "      <td>None</td>\n",
       "    </tr>\n",
       "  </tbody>\n",
       "</table>\n",
       "<p>67 rows × 2 columns</p>\n",
       "</div>"
      ],
      "text/plain": [
       "     Action                      Location\n",
       "0    ได้รับ                       จ.พังงา\n",
       "1        มี                    ตำบลบางทอง\n",
       "2       ออก                  จังหวัดพังงา\n",
       "3   ตรวจสอบ  หน่วยกู้ภัยบางทองที่เกิดเหตุ\n",
       "4    เหมือง               บ้านบางทองเหนือ\n",
       "..      ...                           ...\n",
       "62       ดู                          None\n",
       "63     กรีด                          None\n",
       "64      ยาง                          None\n",
       "65     กลับ                          None\n",
       "66       พบ                          None\n",
       "\n",
       "[67 rows x 2 columns]"
      ]
     },
     "execution_count": 162,
     "metadata": {},
     "output_type": "execute_result"
    }
   ],
   "source": [
    "df_res"
   ]
  },
  {
   "cell_type": "code",
   "execution_count": null,
   "metadata": {},
   "outputs": [],
   "source": []
  }
 ],
 "metadata": {
  "kernelspec": {
   "display_name": "Python 3",
   "language": "python",
   "name": "python3"
  },
  "language_info": {
   "codemirror_mode": {
    "name": "ipython",
    "version": 3
   },
   "file_extension": ".py",
   "mimetype": "text/x-python",
   "name": "python",
   "nbconvert_exporter": "python",
   "pygments_lexer": "ipython3",
   "version": "3.7.4"
  },
  "toc": {
   "base_numbering": 1,
   "nav_menu": {},
   "number_sections": true,
   "sideBar": true,
   "skip_h1_title": false,
   "title_cell": "Table of Contents",
   "title_sidebar": "Contents",
   "toc_cell": false,
   "toc_position": {},
   "toc_section_display": true,
   "toc_window_display": false
  }
 },
 "nbformat": 4,
 "nbformat_minor": 2
}
