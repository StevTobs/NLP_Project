{
 "cells": [
  {
   "cell_type": "code",
   "execution_count": 17,
   "metadata": {},
   "outputs": [
    {
     "name": "stdout",
     "output_type": "stream",
     "text": [
      "Requirement already satisfied: firebase-admin in c:\\users\\lenovo\\anaconda3\\lib\\site-packages (4.3.0)\n",
      "Requirement already satisfied: google-api-core[grpc]<2.0.0dev,>=1.14.0; platform_python_implementation != \"PyPy\" in c:\\users\\lenovo\\anaconda3\\lib\\site-packages (from firebase-admin) (1.17.0)\n",
      "Requirement already satisfied: google-cloud-firestore>=1.4.0; platform_python_implementation != \"PyPy\" in c:\\users\\lenovo\\anaconda3\\lib\\site-packages (from firebase-admin) (1.7.0)\n",
      "Requirement already satisfied: google-cloud-storage>=1.18.0 in c:\\users\\lenovo\\anaconda3\\lib\\site-packages (from firebase-admin) (1.28.1)\n",
      "Requirement already satisfied: google-api-python-client>=1.7.8 in c:\\users\\lenovo\\anaconda3\\lib\\site-packages (from firebase-admin) (1.8.3)\n",
      "Requirement already satisfied: cachecontrol>=0.12.6 in c:\\users\\lenovo\\anaconda3\\lib\\site-packages (from firebase-admin) (0.12.6)\n",
      "Requirement already satisfied: requests<3.0.0dev,>=2.18.0 in c:\\users\\lenovo\\anaconda3\\lib\\site-packages (from google-api-core[grpc]<2.0.0dev,>=1.14.0; platform_python_implementation != \"PyPy\"->firebase-admin) (2.23.0)\n",
      "Requirement already satisfied: googleapis-common-protos<2.0dev,>=1.6.0 in c:\\users\\lenovo\\anaconda3\\lib\\site-packages (from google-api-core[grpc]<2.0.0dev,>=1.14.0; platform_python_implementation != \"PyPy\"->firebase-admin) (1.51.0)\n",
      "Requirement already satisfied: protobuf>=3.4.0 in c:\\users\\lenovo\\anaconda3\\lib\\site-packages (from google-api-core[grpc]<2.0.0dev,>=1.14.0; platform_python_implementation != \"PyPy\"->firebase-admin) (3.11.1)\n",
      "Requirement already satisfied: google-auth<2.0dev,>=1.14.0 in c:\\users\\lenovo\\anaconda3\\lib\\site-packages (from google-api-core[grpc]<2.0.0dev,>=1.14.0; platform_python_implementation != \"PyPy\"->firebase-admin) (1.15.0)\n",
      "Requirement already satisfied: setuptools>=34.0.0 in c:\\users\\lenovo\\anaconda3\\lib\\site-packages (from google-api-core[grpc]<2.0.0dev,>=1.14.0; platform_python_implementation != \"PyPy\"->firebase-admin) (46.4.0)\n",
      "Requirement already satisfied: six>=1.10.0 in c:\\users\\lenovo\\anaconda3\\lib\\site-packages (from google-api-core[grpc]<2.0.0dev,>=1.14.0; platform_python_implementation != \"PyPy\"->firebase-admin) (1.13.0)\n",
      "Requirement already satisfied: pytz in c:\\users\\lenovo\\anaconda3\\lib\\site-packages (from google-api-core[grpc]<2.0.0dev,>=1.14.0; platform_python_implementation != \"PyPy\"->firebase-admin) (2018.4)\n",
      "Requirement already satisfied: grpcio<2.0dev,>=1.8.2; extra == \"grpc\" in c:\\users\\lenovo\\anaconda3\\lib\\site-packages (from google-api-core[grpc]<2.0.0dev,>=1.14.0; platform_python_implementation != \"PyPy\"->firebase-admin) (1.25.0)\n",
      "Requirement already satisfied: google-cloud-core<2.0dev,>=1.0.3 in c:\\users\\lenovo\\anaconda3\\lib\\site-packages (from google-cloud-firestore>=1.4.0; platform_python_implementation != \"PyPy\"->firebase-admin) (1.3.0)\n",
      "Requirement already satisfied: google-resumable-media<0.6dev,>=0.5.0 in c:\\users\\lenovo\\anaconda3\\lib\\site-packages (from google-cloud-storage>=1.18.0->firebase-admin) (0.5.0)\n",
      "Requirement already satisfied: uritemplate<4dev,>=3.0.0 in c:\\users\\lenovo\\anaconda3\\lib\\site-packages (from google-api-python-client>=1.7.8->firebase-admin) (3.0.1)\n",
      "Requirement already satisfied: google-auth-httplib2>=0.0.3 in c:\\users\\lenovo\\anaconda3\\lib\\site-packages (from google-api-python-client>=1.7.8->firebase-admin) (0.0.3)\n",
      "Requirement already satisfied: httplib2<1dev,>=0.9.2 in c:\\users\\lenovo\\anaconda3\\lib\\site-packages (from google-api-python-client>=1.7.8->firebase-admin) (0.17.4)\n",
      "Requirement already satisfied: msgpack>=0.5.2 in c:\\users\\lenovo\\anaconda3\\lib\\site-packages (from cachecontrol>=0.12.6->firebase-admin) (1.0.0)\n",
      "Requirement already satisfied: chardet<4,>=3.0.2 in c:\\users\\lenovo\\anaconda3\\lib\\site-packages (from requests<3.0.0dev,>=2.18.0->google-api-core[grpc]<2.0.0dev,>=1.14.0; platform_python_implementation != \"PyPy\"->firebase-admin) (3.0.4)\n",
      "Requirement already satisfied: idna<3,>=2.5 in c:\\users\\lenovo\\anaconda3\\lib\\site-packages (from requests<3.0.0dev,>=2.18.0->google-api-core[grpc]<2.0.0dev,>=1.14.0; platform_python_implementation != \"PyPy\"->firebase-admin) (2.8)\n",
      "Requirement already satisfied: urllib3!=1.25.0,!=1.25.1,<1.26,>=1.21.1 in c:\\users\\lenovo\\anaconda3\\lib\\site-packages (from requests<3.0.0dev,>=2.18.0->google-api-core[grpc]<2.0.0dev,>=1.14.0; platform_python_implementation != \"PyPy\"->firebase-admin) (1.25.7)\n",
      "Requirement already satisfied: certifi>=2017.4.17 in c:\\users\\lenovo\\anaconda3\\lib\\site-packages (from requests<3.0.0dev,>=2.18.0->google-api-core[grpc]<2.0.0dev,>=1.14.0; platform_python_implementation != \"PyPy\"->firebase-admin) (2019.11.28)\n",
      "Requirement already satisfied: rsa<4.1,>=3.1.4 in c:\\users\\lenovo\\anaconda3\\lib\\site-packages (from google-auth<2.0dev,>=1.14.0->google-api-core[grpc]<2.0.0dev,>=1.14.0; platform_python_implementation != \"PyPy\"->firebase-admin) (4.0)\n",
      "Requirement already satisfied: pyasn1-modules>=0.2.1 in c:\\users\\lenovo\\anaconda3\\lib\\site-packages (from google-auth<2.0dev,>=1.14.0->google-api-core[grpc]<2.0.0dev,>=1.14.0; platform_python_implementation != \"PyPy\"->firebase-admin) (0.2.7)\n",
      "Requirement already satisfied: cachetools<5.0,>=2.0.0 in c:\\users\\lenovo\\anaconda3\\lib\\site-packages (from google-auth<2.0dev,>=1.14.0->google-api-core[grpc]<2.0.0dev,>=1.14.0; platform_python_implementation != \"PyPy\"->firebase-admin) (3.1.1)\n",
      "Requirement already satisfied: pyasn1>=0.1.3 in c:\\users\\lenovo\\anaconda3\\lib\\site-packages (from rsa<4.1,>=3.1.4->google-auth<2.0dev,>=1.14.0->google-api-core[grpc]<2.0.0dev,>=1.14.0; platform_python_implementation != \"PyPy\"->firebase-admin) (0.4.8)\n"
     ]
    }
   ],
   "source": [
    "\n",
    "# # uncomment if running from colab\n",
    "# !pip install https://github.com/PyThaiNLP/pythainlp/archive/dev.zip\n",
    "# !pip install epitran\n",
    "# !pip install sklearn_crfsuite\n",
    "!pip install firebase-admin"
   ]
  },
  {
   "cell_type": "code",
   "execution_count": 6,
   "metadata": {},
   "outputs": [],
   "source": [
    "from NLP_temporal_memory import *"
   ]
  },
  {
   "cell_type": "code",
   "execution_count": 18,
   "metadata": {},
   "outputs": [
    {
     "ename": "ValueError",
     "evalue": "The default Firebase app already exists. This means you called initialize_app() more than once without providing an app name as the second argument. In most cases you only need to call initialize_app() once. But if you do want to initialize multiple apps, pass a second argument to initialize_app() to give each app a unique name.",
     "output_type": "error",
     "traceback": [
      "\u001b[1;31m---------------------------------------------------------------------------\u001b[0m",
      "\u001b[1;31mValueError\u001b[0m                                Traceback (most recent call last)",
      "\u001b[1;32m<ipython-input-18-9223460d5cfd>\u001b[0m in \u001b[0;36m<module>\u001b[1;34m()\u001b[0m\n\u001b[0;32m      3\u001b[0m \u001b[1;33m\u001b[0m\u001b[0m\n\u001b[0;32m      4\u001b[0m \u001b[0mcred\u001b[0m \u001b[1;33m=\u001b[0m \u001b[0mcredentials\u001b[0m\u001b[1;33m.\u001b[0m\u001b[0mCertificate\u001b[0m\u001b[1;33m(\u001b[0m\u001b[1;34m\"nlpbot-48014-firebase-adminsdk-ocjix-c7eaac6351.json\"\u001b[0m\u001b[1;33m)\u001b[0m\u001b[1;33m\u001b[0m\u001b[0m\n\u001b[1;32m----> 5\u001b[1;33m \u001b[0mfirebase_admin\u001b[0m\u001b[1;33m.\u001b[0m\u001b[0minitialize_app\u001b[0m\u001b[1;33m(\u001b[0m\u001b[0mcred\u001b[0m\u001b[1;33m)\u001b[0m\u001b[1;33m\u001b[0m\u001b[0m\n\u001b[0m\u001b[0;32m      6\u001b[0m \u001b[0mdb\u001b[0m \u001b[1;33m=\u001b[0m \u001b[0mfirestore\u001b[0m\u001b[1;33m.\u001b[0m\u001b[0mclient\u001b[0m\u001b[1;33m(\u001b[0m\u001b[1;33m)\u001b[0m\u001b[1;33m\u001b[0m\u001b[0m\n",
      "\u001b[1;32m~\\Anaconda3\\lib\\site-packages\\firebase_admin\\__init__.py\u001b[0m in \u001b[0;36minitialize_app\u001b[1;34m(credential, options, name)\u001b[0m\n\u001b[0;32m     70\u001b[0m     \u001b[1;32mif\u001b[0m \u001b[0mname\u001b[0m \u001b[1;33m==\u001b[0m \u001b[0m_DEFAULT_APP_NAME\u001b[0m\u001b[1;33m:\u001b[0m\u001b[1;33m\u001b[0m\u001b[0m\n\u001b[0;32m     71\u001b[0m         raise ValueError((\n\u001b[1;32m---> 72\u001b[1;33m             \u001b[1;34m'The default Firebase app already exists. This means you called '\u001b[0m\u001b[1;33m\u001b[0m\u001b[0m\n\u001b[0m\u001b[0;32m     73\u001b[0m             \u001b[1;34m'initialize_app() more than once without providing an app name as '\u001b[0m\u001b[1;33m\u001b[0m\u001b[0m\n\u001b[0;32m     74\u001b[0m             \u001b[1;34m'the second argument. In most cases you only need to call '\u001b[0m\u001b[1;33m\u001b[0m\u001b[0m\n",
      "\u001b[1;31mValueError\u001b[0m: The default Firebase app already exists. This means you called initialize_app() more than once without providing an app name as the second argument. In most cases you only need to call initialize_app() once. But if you do want to initialize multiple apps, pass a second argument to initialize_app() to give each app a unique name."
     ]
    }
   ],
   "source": [
    "import firebase_admin\n",
    "from firebase_admin import credentials\n",
    "\n",
    "cred = credentials.Certificate(\"nlpbot-48014-firebase-adminsdk-ocjix-c7eaac6351.json\")\n",
    "firebase_admin.initialize_app(cred)\n",
    "db = firestore.client()"
   ]
  },
  {
   "cell_type": "code",
   "execution_count": 21,
   "metadata": {},
   "outputs": [
    {
     "name": "stdout",
     "output_type": "stream",
     "text": [
      " {'timestamp': 1589989209203, 'userId': 'U99648c35cb84f0ab7ca8e22bf2b375f7', 'Message': 'วันนี้กินก๋วยเตี๋ยวเย็นตาโฟที่งามวงศ์วาน'}\n",
      " {'userId': 'U99648c35cb84f0ab7ca8e22bf2b375f7', 'timestamp': 1589989233849, 'Message': 'ผมวิ่งที่สวนจตุจักรเมื่อวานนี้'}\n",
      " {'userId': 'U99648c35cb84f0ab7ca8e22bf2b375f7', 'timestamp': 1589989258308, 'Message': 'ฝนตกบ่อยมากสัปดาห์ที่แล้ว'}\n",
      " {'userId': 'U99648c35cb84f0ab7ca8e22bf2b375f7', 'timestamp': 1589989338498, 'Message': 'วันพรุ่งนี้จะไปห้างสรรพสินค้า'}\n",
      " {}\n"
     ]
    }
   ],
   "source": [
    "import firebase_admin\n",
    "from firebase_admin import credentials\n",
    "from firebase_admin import firestore\n",
    "\n",
    "db = firestore.client()\n",
    "users_ref = db.collection(u'chat-history')\n",
    "#users_ref = db.collection(u'customer')\n",
    "docs = users_ref.stream()\n",
    "\n",
    "for doc in docs:\n",
    "    print(u' {}'.format( doc.to_dict()))"
   ]
  },
  {
   "cell_type": "code",
   "execution_count": 9,
   "metadata": {},
   "outputs": [
    {
     "name": "stdout",
     "output_type": "stream",
     "text": [
      "userId:  U99648c35cb84f0ab7ca8e22bf2b375f7\n",
      "Auto report file : \n",
      " {'0000': ['initial'], 'E001': [{'Agent': ['ผม', 'ท่าน'], 'Action': ['ขอ'], 'Theme': ['คุย', 'หัวหน้านะครับ'], 'Location': [], 'Temporal': ['พรุ่งนี้', 'พรุ่งนี้'], 'Timestamp': ['2020-05-20']}], 'E002': [{'Agent': ['ผม'], 'Action': ['ยังไง', 'รบกวน', 'มี', 'ประชุม'], 'Theme': ['แจ้งกระผม', 'นะครับ', 'พอดี', 'แม่น้ำ'], 'Location': [], 'Temporal': [], 'Timestamp': ['2020-05-20']}], 'E003': [{'Agent': [], 'Action': ['ขอ'], 'Theme': ['เสียงรถด่วนขบวน', 'วุ่นวาย', 'ตามสบาย', 'เถอะ'], 'Location': [], 'Temporal': [], 'Timestamp': ['2020-05-20']}]}\n",
      "NLP Thai PEA is ready!!\n",
      "------------------------------------------------------------------------------\n"
     ]
    }
   ],
   "source": [
    "# input parameters\n",
    "txt_path  = r\"json_recored_file.txt\"\n",
    "userId = \"U99648c35cb84f0ab7ca8e22bf2b375f7\"\n",
    "JS_timestamp_ms = 1589920755744\n",
    "message = \"ขออนุญาตสอบถามเรื่องติดตั้งหม้อแปลงที่จังหวัดนนทบุรีหน่อยครับ พรุ่งนี้จะต้องมีงานเลี้ยงด่วน\"\n",
    "\n",
    "PEA_NLP = NLP_THAI_PEA(message , JS_timestamp_ms , userId , txt_path )"
   ]
  },
  {
   "cell_type": "code",
   "execution_count": 10,
   "metadata": {},
   "outputs": [
    {
     "data": {
      "text/plain": [
       "'Wednesday 20. May 2020'"
      ]
     },
     "execution_count": 10,
     "metadata": {},
     "output_type": "execute_result"
    }
   ],
   "source": [
    "from datetime import datetime\n",
    "dates = datetime.fromtimestamp(1589920755744 / 1e3)\n",
    "dates.strftime(\"%A %d. %B %Y\")"
   ]
  },
  {
   "cell_type": "code",
   "execution_count": 13,
   "metadata": {},
   "outputs": [],
   "source": [
    "from datetime import datetime, timedelta\n",
    "keyT = PEA_NLP.getTemporal()\n",
    "\n",
    "def adjusttime(keyT):\n",
    "    timekey = []\n",
    "    for i in range( len(keyT)):\n",
    "        if keyT[i] in 'เมื่อวานนี้':\n",
    "            timekey.append(datetime.strftime(dates + timedelta(days = -1), \"%A %d. %B %Y\"))\n",
    "        elif keyT[i] in 'วันพรุ่งนี้':\n",
    "            timekey.append(datetime.strftime(dates + timedelta(days = 1), \"%A %d. %B %Y\"))\n",
    "        elif keyT[i]  == 'สองวันก่อน':\n",
    "            timekey.append(datetime.strftime(dates + timedelta(days = -2), \"%A %d. %B %Y\"))\n",
    "        elif keyT[i] == 'อีกสองวัน':\n",
    "            timekey.append(datetime.strftime(dates + timedelta(days = 2), \"%A %d. %B %Y\"))\n",
    "        elif keyT[i] == 'สัปดาห์หน้า':\n",
    "            timekey.append(datetime.strftime(dates + timedelta(days=7), \"%A %d. %B %Y\"))\n",
    "        elif keyT[i] == 'สัปดาห์ที่แล้ว':\n",
    "            timekey.append(datetime.strftime(dates + timedelta(days=-7), \"%A %d. %B %Y\"))\n",
    "        elif keyT[i] == 'อีกสองสัปดาห์':\n",
    "            timekey.append(datetime.strftime(dates + timedelta(days=14), \"%A %d. %B %Y\"))\n",
    "        elif keyT[i] == 'สองสัปดาห์ที่แล้ว':\n",
    "            timekey.append(datetime.strftime(dates + timedelta(days=-14), \"%A %d. %B %Y\"))\n",
    "        else:\n",
    "            timekey.append('0')\n",
    "    return timekey"
   ]
  },
  {
   "cell_type": "code",
   "execution_count": 14,
   "metadata": {},
   "outputs": [
    {
     "data": {
      "text/plain": [
       "['Thursday 21. May 2020']"
      ]
     },
     "execution_count": 14,
     "metadata": {},
     "output_type": "execute_result"
    }
   ],
   "source": [
    "adjusttime(keyT)"
   ]
  },
  {
   "cell_type": "markdown",
   "metadata": {},
   "source": [
    "## Main"
   ]
  },
  {
   "cell_type": "code",
   "execution_count": 13,
   "metadata": {},
   "outputs": [],
   "source": [
    "NLP_TH_PEA = NLP_THAI_PEA()"
   ]
  },
  {
   "cell_type": "markdown",
   "metadata": {},
   "source": [
    "Dataframs format"
   ]
  },
  {
   "cell_type": "code",
   "execution_count": 4,
   "metadata": {},
   "outputs": [],
   "source": [
    "df = pd.DataFrame(np.empty((1,6)),index='initial'.split(),columns='Event Action Agent Theme Location Temporal'.split())"
   ]
  },
  {
   "cell_type": "code",
   "execution_count": 6,
   "metadata": {},
   "outputs": [
    {
     "data": {
      "text/html": [
       "<div>\n",
       "<style scoped>\n",
       "    .dataframe tbody tr th:only-of-type {\n",
       "        vertical-align: middle;\n",
       "    }\n",
       "\n",
       "    .dataframe tbody tr th {\n",
       "        vertical-align: top;\n",
       "    }\n",
       "\n",
       "    .dataframe thead th {\n",
       "        text-align: right;\n",
       "    }\n",
       "</style>\n",
       "<table border=\"1\" class=\"dataframe\">\n",
       "  <thead>\n",
       "    <tr style=\"text-align: right;\">\n",
       "      <th></th>\n",
       "      <th>Event</th>\n",
       "      <th>Action</th>\n",
       "      <th>Agent</th>\n",
       "      <th>Theme</th>\n",
       "      <th>Location</th>\n",
       "      <th>Temporal</th>\n",
       "    </tr>\n",
       "  </thead>\n",
       "  <tbody>\n",
       "    <tr>\n",
       "      <td>initial</td>\n",
       "      <td>0.0</td>\n",
       "      <td>0.0</td>\n",
       "      <td>0.0</td>\n",
       "      <td>0.0</td>\n",
       "      <td>0.0</td>\n",
       "      <td>0.0</td>\n",
       "    </tr>\n",
       "    <tr>\n",
       "      <td>initial-2</td>\n",
       "      <td>0.0</td>\n",
       "      <td>0.0</td>\n",
       "      <td>0.0</td>\n",
       "      <td>0.0</td>\n",
       "      <td>0.0</td>\n",
       "      <td>0.0</td>\n",
       "    </tr>\n",
       "  </tbody>\n",
       "</table>\n",
       "</div>"
      ],
      "text/plain": [
       "           Event  Action  Agent  Theme  Location  Temporal\n",
       "initial      0.0     0.0    0.0    0.0       0.0       0.0\n",
       "initial-2    0.0     0.0    0.0    0.0       0.0       0.0"
      ]
     },
     "execution_count": 6,
     "metadata": {},
     "output_type": "execute_result"
    }
   ],
   "source": [
    "#test concate\n",
    "df2 = pd.DataFrame(np.zeros((1,6)),index='initial-2'.split(),columns='Event Action Agent Theme Location Temporal'.split())\n",
    "NLP_TH.concadDf(df, df2)"
   ]
  },
  {
   "cell_type": "code",
   "execution_count": null,
   "metadata": {},
   "outputs": [],
   "source": []
  }
 ],
 "metadata": {
  "kernelspec": {
   "display_name": "Python 3",
   "language": "python",
   "name": "python3"
  },
  "language_info": {
   "codemirror_mode": {
    "name": "ipython",
    "version": 3
   },
   "file_extension": ".py",
   "mimetype": "text/x-python",
   "name": "python",
   "nbconvert_exporter": "python",
   "pygments_lexer": "ipython3",
   "version": "3.6.5"
  },
  "toc": {
   "base_numbering": 1,
   "nav_menu": {},
   "number_sections": true,
   "sideBar": true,
   "skip_h1_title": false,
   "title_cell": "Table of Contents",
   "title_sidebar": "Contents",
   "toc_cell": false,
   "toc_position": {},
   "toc_section_display": true,
   "toc_window_display": false
  }
 },
 "nbformat": 4,
 "nbformat_minor": 2
}
