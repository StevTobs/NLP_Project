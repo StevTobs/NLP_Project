{
 "cells": [
  {
   "cell_type": "code",
   "execution_count": 1,
   "metadata": {},
   "outputs": [],
   "source": [
    "\n",
    "# # uncomment if running from colab\n",
    "# !pip install https://github.com/PyThaiNLP/pythainlp/archive/dev.zip\n",
    "# !pip install epitran\n",
    "# !pip install sklearn_crfsuite"
   ]
  },
  {
   "cell_type": "code",
   "execution_count": 1,
   "metadata": {},
   "outputs": [],
   "source": [
    "from NLP_temporal_memory import *\n"
   ]
  },
  {
   "cell_type": "markdown",
   "metadata": {},
   "source": [
    "## Initial part"
   ]
  },
  {
   "cell_type": "code",
   "execution_count": 2,
   "metadata": {
    "scrolled": true
   },
   "outputs": [
    {
     "name": "stdout",
     "output_type": "stream",
     "text": [
      "userId:  U99648c35cb84f0ab7ca8e22bf2b375f7\n",
      "NLP Thai PEA is ready!!\n",
      "------------------------------------------------------------------------------\n"
     ]
    }
   ],
   "source": [
    "# input parameters\n",
    "userId = \"U99648c35cb84f0ab7ca8e22bf2b375f7\"\n",
    "JS_timestamp_ms = 1589920755744\n",
    "message = \"ขออนุญาตสอบถามเรื่องติดตั้งหม้อแปลงที่จังหวัดนนทบุรีหน่อยครับ พรุ่งนี้จะต้องมีงานเลี้ยงด่วน\"\n",
    "\n",
    "txt_path = r\"G:\\\\CODE\\\\Git\\\\NLP_Project\\\\json_recored_file.txt\"\n",
    "NLP_TH_PEA = NLP_THAI_PEA(message  ,  JS_timestamp_ms , userId , txt_path )"
   ]
  },
  {
   "cell_type": "markdown",
   "metadata": {},
   "source": [
    "## Dataframs format"
   ]
  },
  {
   "cell_type": "code",
   "execution_count": 3,
   "metadata": {},
   "outputs": [
    {
     "data": {
      "text/plain": [
       "['สอบถาม', 'ติดตั้ง', 'ครับ', 'มี']"
      ]
     },
     "execution_count": 3,
     "metadata": {},
     "output_type": "execute_result"
    }
   ],
   "source": [
    "NLP_TH_PEA.getAction()"
   ]
  },
  {
   "cell_type": "code",
   "execution_count": 4,
   "metadata": {},
   "outputs": [
    {
     "data": {
      "text/plain": [
       "['จังหวัดนนทบุรี']"
      ]
     },
     "execution_count": 4,
     "metadata": {},
     "output_type": "execute_result"
    }
   ],
   "source": [
    "NLP_TH_PEA.getLocation()"
   ]
  },
  {
   "cell_type": "code",
   "execution_count": 5,
   "metadata": {},
   "outputs": [
    {
     "data": {
      "text/html": [
       "<div>\n",
       "<style scoped>\n",
       "    .dataframe tbody tr th:only-of-type {\n",
       "        vertical-align: middle;\n",
       "    }\n",
       "\n",
       "    .dataframe tbody tr th {\n",
       "        vertical-align: top;\n",
       "    }\n",
       "\n",
       "    .dataframe thead th {\n",
       "        text-align: right;\n",
       "    }\n",
       "</style>\n",
       "<table border=\"1\" class=\"dataframe\">\n",
       "  <thead>\n",
       "    <tr style=\"text-align: right;\">\n",
       "      <th></th>\n",
       "      <th>Agent</th>\n",
       "      <th>Action</th>\n",
       "      <th>Theme</th>\n",
       "      <th>Location</th>\n",
       "      <th>Temporal</th>\n",
       "      <th>Timestamp</th>\n",
       "    </tr>\n",
       "  </thead>\n",
       "  <tbody>\n",
       "    <tr>\n",
       "      <td>0</td>\n",
       "      <td>None</td>\n",
       "      <td>สอบถาม</td>\n",
       "      <td>ขออนุญาต</td>\n",
       "      <td>จังหวัดนนทบุรี</td>\n",
       "      <td>พรุ่งนี้</td>\n",
       "      <td>2020-05-20</td>\n",
       "    </tr>\n",
       "    <tr>\n",
       "      <td>1</td>\n",
       "      <td>None</td>\n",
       "      <td>ติดตั้ง</td>\n",
       "      <td>เรื่อง</td>\n",
       "      <td>None</td>\n",
       "      <td>None</td>\n",
       "      <td>None</td>\n",
       "    </tr>\n",
       "    <tr>\n",
       "      <td>2</td>\n",
       "      <td>None</td>\n",
       "      <td>ครับ</td>\n",
       "      <td>หม้อแปลง</td>\n",
       "      <td>None</td>\n",
       "      <td>None</td>\n",
       "      <td>None</td>\n",
       "    </tr>\n",
       "    <tr>\n",
       "      <td>3</td>\n",
       "      <td>None</td>\n",
       "      <td>มี</td>\n",
       "      <td>หน่อย</td>\n",
       "      <td>None</td>\n",
       "      <td>None</td>\n",
       "      <td>None</td>\n",
       "    </tr>\n",
       "    <tr>\n",
       "      <td>4</td>\n",
       "      <td>None</td>\n",
       "      <td>None</td>\n",
       "      <td>งานเลี้ยงด่วน</td>\n",
       "      <td>None</td>\n",
       "      <td>None</td>\n",
       "      <td>None</td>\n",
       "    </tr>\n",
       "  </tbody>\n",
       "</table>\n",
       "</div>"
      ],
      "text/plain": [
       "  Agent   Action          Theme        Location  Temporal   Timestamp\n",
       "0  None   สอบถาม       ขออนุญาต  จังหวัดนนทบุรี  พรุ่งนี้  2020-05-20\n",
       "1  None  ติดตั้ง         เรื่อง            None      None        None\n",
       "2  None     ครับ       หม้อแปลง            None      None        None\n",
       "3  None       มี          หน่อย            None      None        None\n",
       "4  None     None  งานเลี้ยงด่วน            None      None        None"
      ]
     },
     "execution_count": 5,
     "metadata": {},
     "output_type": "execute_result"
    }
   ],
   "source": [
    "NLP_TH_PEA.reportTable()"
   ]
  },
  {
   "cell_type": "code",
   "execution_count": 6,
   "metadata": {},
   "outputs": [
    {
     "data": {
      "text/plain": [
       "True"
      ]
     },
     "execution_count": 6,
     "metadata": {},
     "output_type": "execute_result"
    }
   ],
   "source": [
    "'สอบถาม' in NLP_TH_PEA.getAction()"
   ]
  },
  {
   "cell_type": "code",
   "execution_count": 7,
   "metadata": {},
   "outputs": [],
   "source": [
    "dict_ = NLP_TH_PEA.getCurrentDict()"
   ]
  },
  {
   "cell_type": "code",
   "execution_count": 8,
   "metadata": {},
   "outputs": [
    {
     "data": {
      "text/plain": [
       "{'Agent': [],\n",
       " 'Action': ['สอบถาม', 'ติดตั้ง', 'ครับ', 'มี'],\n",
       " 'Theme': ['ขออนุญาต', 'เรื่อง', 'หม้อแปลง', 'หน่อย', 'งานเลี้ยงด่วน'],\n",
       " 'Location': ['จังหวัดนนทบุรี'],\n",
       " 'Temporal': ['พรุ่งนี้'],\n",
       " 'Timestamp': ['2020-05-20']}"
      ]
     },
     "execution_count": 8,
     "metadata": {},
     "output_type": "execute_result"
    }
   ],
   "source": [
    "dict_ "
   ]
  },
  {
   "cell_type": "code",
   "execution_count": 9,
   "metadata": {},
   "outputs": [],
   "source": [
    "import json\n",
    "txt_path = 'json_recored_file.txt'\n",
    "data = {}\n",
    "data['people'] = []\n",
    "data['people'].append({\n",
    "    'name': 'Scott',\n",
    "    'website': 'stackabuse.com',\n",
    "    'from': 'Nebraska'\n",
    "})\n",
    "data['people'].append({\n",
    "    'name': 'Larry',\n",
    "    'website': 'google.com',\n",
    "    'from': 'Michigan'\n",
    "})\n",
    "data['people'].append({\n",
    "    'name': 'Tim',\n",
    "    'website': 'apple.com',\n",
    "    'from': 'Alabama'\n",
    "})\n",
    "\n",
    "with open(txt_path , 'w') as outfile:\n",
    "    json.dump(data, outfile)"
   ]
  },
  {
   "cell_type": "code",
   "execution_count": 10,
   "metadata": {},
   "outputs": [
    {
     "data": {
      "text/plain": [
       "'E0000'"
      ]
     },
     "execution_count": 10,
     "metadata": {},
     "output_type": "execute_result"
    }
   ],
   "source": [
    "NLP_TH_PEA.getEventID( NLP_TH_PEA.reportDict() )"
   ]
  },
  {
   "cell_type": "code",
   "execution_count": 11,
   "metadata": {},
   "outputs": [],
   "source": [
    "data = {}\n",
    "ID = NLP_TH_PEA.getEventID( NLP_TH_PEA.reportDict() )\n",
    "data[ID]  = []\n",
    "data[ID].append( NLP_TH_PEA.getCurrentDict() )\n",
    "\n",
    "with open(txt_path , 'w') as outfile:\n",
    "    json.dump(data, outfile)"
   ]
  },
  {
   "cell_type": "code",
   "execution_count": 12,
   "metadata": {},
   "outputs": [],
   "source": [
    "with open(txt_path ) as json_file:\n",
    "    data = json.load(json_file)"
   ]
  },
  {
   "cell_type": "code",
   "execution_count": 13,
   "metadata": {},
   "outputs": [
    {
     "data": {
      "text/plain": [
       "dict"
      ]
     },
     "execution_count": 13,
     "metadata": {},
     "output_type": "execute_result"
    }
   ],
   "source": [
    "type(data)"
   ]
  },
  {
   "cell_type": "code",
   "execution_count": 14,
   "metadata": {},
   "outputs": [
    {
     "data": {
      "text/plain": [
       "'E0000'"
      ]
     },
     "execution_count": 14,
     "metadata": {},
     "output_type": "execute_result"
    }
   ],
   "source": [
    "NLP_TH_PEA.getEventID( data  ) "
   ]
  },
  {
   "cell_type": "code",
   "execution_count": 15,
   "metadata": {},
   "outputs": [],
   "source": [
    "ID_new = NLP_TH_PEA.updateEventID( data)"
   ]
  },
  {
   "cell_type": "code",
   "execution_count": 16,
   "metadata": {},
   "outputs": [
    {
     "data": {
      "text/plain": [
       "'E0001'"
      ]
     },
     "execution_count": 16,
     "metadata": {},
     "output_type": "execute_result"
    }
   ],
   "source": [
    "ID_new"
   ]
  },
  {
   "cell_type": "code",
   "execution_count": 18,
   "metadata": {},
   "outputs": [],
   "source": [
    "\n",
    "data[ID_new]=[]\n",
    "data[ID_new].append( NLP_TH_PEA.getCurrentDict() )\n",
    "\n",
    "with open(txt_path , 'w') as outfile:\n",
    "    json.dump(data, outfile)"
   ]
  },
  {
   "cell_type": "code",
   "execution_count": 19,
   "metadata": {},
   "outputs": [],
   "source": [
    "#load\n",
    "with open(txt_path ) as json_file:\n",
    "    data = json.load(json_file)"
   ]
  },
  {
   "cell_type": "code",
   "execution_count": 20,
   "metadata": {},
   "outputs": [
    {
     "data": {
      "text/plain": [
       "{'E0000': [{'Agent': [],\n",
       "   'Action': ['สอบถาม', 'ติดตั้ง', 'ครับ', 'มี'],\n",
       "   'Theme': ['ขออนุญาต', 'เรื่อง', 'หม้อแปลง', 'หน่อย', 'งานเลี้ยงด่วน'],\n",
       "   'Location': ['จังหวัดนนทบุรี'],\n",
       "   'Temporal': ['พรุ่งนี้'],\n",
       "   'Timestamp': ['2020-05-20']}],\n",
       " 'E0001': [{'Agent': [],\n",
       "   'Action': ['สอบถาม', 'ติดตั้ง', 'ครับ', 'มี'],\n",
       "   'Theme': ['ขออนุญาต', 'เรื่อง', 'หม้อแปลง', 'หน่อย', 'งานเลี้ยงด่วน'],\n",
       "   'Location': ['จังหวัดนนทบุรี'],\n",
       "   'Temporal': ['พรุ่งนี้'],\n",
       "   'Timestamp': ['2020-05-20']}]}"
      ]
     },
     "execution_count": 20,
     "metadata": {},
     "output_type": "execute_result"
    }
   ],
   "source": [
    "data"
   ]
  },
  {
   "cell_type": "code",
   "execution_count": 23,
   "metadata": {},
   "outputs": [],
   "source": [
    "#clear\n",
    "data = {}\n",
    "ID = '0000'\n",
    "data[ID]  = ['initial']\n",
    "\n",
    "\n",
    "with open(txt_path , 'w') as outfile:\n",
    "    json.dump(data, outfile)\n",
    "\n"
   ]
  },
  {
   "cell_type": "code",
   "execution_count": 24,
   "metadata": {},
   "outputs": [
    {
     "data": {
      "text/plain": [
       "{'0000': ['initial']}"
      ]
     },
     "execution_count": 24,
     "metadata": {},
     "output_type": "execute_result"
    }
   ],
   "source": [
    "data"
   ]
  },
  {
   "cell_type": "code",
   "execution_count": 8,
   "metadata": {},
   "outputs": [
    {
     "name": "stdout",
     "output_type": "stream",
     "text": [
      "Date = 2012-01-11\n"
     ]
    }
   ],
   "source": [
    "\n",
    "from datetime import date\n",
    "\n",
    "timestamp = date.fromtimestamp(1326244364)\n",
    "print(\"Date =\", timestamp)"
   ]
  },
  {
   "cell_type": "code",
   "execution_count": 9,
   "metadata": {},
   "outputs": [
    {
     "name": "stdout",
     "output_type": "stream",
     "text": [
      "Date = 2020-05-20\n"
     ]
    }
   ],
   "source": [
    "JS_time_ms = 1589920755744\n",
    "timestamp = date.fromtimestamp(int(JS_time_ms /1e3))\n",
    "print(\"Date =\", str( timestamp))\n"
   ]
  },
  {
   "cell_type": "code",
   "execution_count": 10,
   "metadata": {},
   "outputs": [
    {
     "data": {
      "text/plain": [
       "str"
      ]
     },
     "execution_count": 10,
     "metadata": {},
     "output_type": "execute_result"
    }
   ],
   "source": [
    "type(str( timestamp))\n"
   ]
  },
  {
   "cell_type": "code",
   "execution_count": 11,
   "metadata": {},
   "outputs": [
    {
     "data": {
      "text/plain": [
       "True"
      ]
     },
     "execution_count": 11,
     "metadata": {},
     "output_type": "execute_result"
    }
   ],
   "source": [
    "timestamp == timestamp "
   ]
  },
  {
   "cell_type": "code",
   "execution_count": 12,
   "metadata": {},
   "outputs": [
    {
     "data": {
      "text/plain": [
       "datetime.date(2020, 5, 20)"
      ]
     },
     "execution_count": 12,
     "metadata": {},
     "output_type": "execute_result"
    }
   ],
   "source": [
    "from datetime import datetime\n",
    "date = datetime.fromtimestamp( 1589920755744 / 1e3)\n",
    "date.date()"
   ]
  },
  {
   "cell_type": "code",
   "execution_count": 14,
   "metadata": {},
   "outputs": [
    {
     "data": {
      "text/plain": [
       "datetime.datetime(2020, 5, 20, 3, 39, 15, 744000)"
      ]
     },
     "execution_count": 14,
     "metadata": {},
     "output_type": "execute_result"
    }
   ],
   "source": [
    "date"
   ]
  },
  {
   "cell_type": "markdown",
   "metadata": {},
   "source": [
    "## Dictionary to JSON "
   ]
  },
  {
   "cell_type": "code",
   "execution_count": 12,
   "metadata": {},
   "outputs": [
    {
     "name": "stdout",
     "output_type": "stream",
     "text": [
      "{\"name\": \"messenger\", \"playstore\": true, \"company\": \"Facebook\", \"price\": 100}\n"
     ]
    }
   ],
   "source": [
    "import json\n",
    "\n",
    "appDict = {\n",
    "  'name': 'messenger',\n",
    "  'playstore': True,\n",
    "  'company': 'Facebook',\n",
    "  'price': 100\n",
    "}\n",
    "\n",
    "app_json = json.dumps(appDict)\n",
    "print(app_json)"
   ]
  },
  {
   "cell_type": "code",
   "execution_count": 13,
   "metadata": {},
   "outputs": [
    {
     "name": "stdout",
     "output_type": "stream",
     "text": [
      "[\n",
      "    {\n",
      "        \"id\": 22,\n",
      "        \"name\": \"Emma\"\n",
      "    },\n",
      "    78,\n",
      "    56,\n",
      "    85,\n",
      "    67\n",
      "]\n",
      "Type of deserialized data:  <class 'list'>\n",
      "JSON Data is [{'id': 22, 'name': 'Emma'}, 78, 56, 85, 67]\n"
     ]
    }
   ],
   "source": [
    "import json\n",
    "\n",
    "StudentDict = {\"id\": 22, \"name\": \"Emma\"}\n",
    "MarksList = [StudentDict, 78, 56, 85, 67]\n",
    "\n",
    "# Serialization\n",
    "encodedJson = json.dumps(MarksList, indent=4)\n",
    "print(encodedJson)\n",
    "# Deserialization\n",
    "\n",
    "data = json.loads(encodedJson) # or you can read from file using load()\n",
    "print(\"Type of deserialized data: \", type(data))\n",
    "\n",
    "print(\"JSON Data is\", data )\n",
    "# for i in data:\n",
    "#     if isinstance(i, dict):\n",
    "#         for key, value in i.items():\n",
    "#             print(key, value)\n",
    "#     else:\n",
    "#         print(i)"
   ]
  },
  {
   "cell_type": "markdown",
   "metadata": {},
   "source": [
    "## CSV Read Write\n",
    "### Create a spreadsheet file (CSV) in Python\n",
    "Let us create a file in CSV format with Python. We will use the comma character as seperator or delimter.\n",
    "\n",
    "_The file in script is opened somewhere in the system.That is the reason for getting PermissionError : [Error 13]. Solution : Just close the file and run the script. You won't get the error._\n"
   ]
  },
  {
   "cell_type": "code",
   "execution_count": 9,
   "metadata": {},
   "outputs": [],
   "source": [
    "import csv\n",
    "\n",
    "dict_test = NLP_TH_PEA.reportDict()\n",
    "\n",
    "  "
   ]
  },
  {
   "cell_type": "code",
   "execution_count": 10,
   "metadata": {},
   "outputs": [
    {
     "data": {
      "text/plain": [
       "{'E0000': {'Agent': [],\n",
       "  'Action': ['สอบถาม', 'ติดตั้ง', 'ครับ', 'มี'],\n",
       "  'Theme': ['ขออนุญาต', 'เรื่อง', 'หม้อแปลง', 'หน่อย', 'งานเลี้ยงด่วน'],\n",
       "  'Location': ['จังหวัดนนทบุรี'],\n",
       "  'Temporal': ['พรุ่งนี้'],\n",
       "  'Timestamp': ['2020-05-20']}}"
      ]
     },
     "execution_count": 10,
     "metadata": {},
     "output_type": "execute_result"
    }
   ],
   "source": [
    "dict_test "
   ]
  },
  {
   "cell_type": "code",
   "execution_count": null,
   "metadata": {},
   "outputs": [],
   "source": []
  },
  {
   "cell_type": "markdown",
   "metadata": {},
   "source": [
    "## Read CSV (dictionary)"
   ]
  },
  {
   "cell_type": "code",
   "execution_count": 28,
   "metadata": {},
   "outputs": [
    {
     "data": {
      "text/plain": [
       "{'E0000': {'Agent': [],\n",
       "  'Action': ['สอบถาม', 'ติดตั้ง', 'ครับ', 'มี'],\n",
       "  'Theme': ['ขออนุญาต', 'เรื่อง', 'หม้อแปลง', 'หน่อย', 'งานเลี้ยงด่วน'],\n",
       "  'Location': ['จังหวัดนนทบุรี'],\n",
       "  'Temporal': ['พรุ่งนี้'],\n",
       "  'Timestamp': ['2020-05-20']}}"
      ]
     },
     "execution_count": 28,
     "metadata": {},
     "output_type": "execute_result"
    }
   ],
   "source": [
    "dict_test "
   ]
  },
  {
   "cell_type": "code",
   "execution_count": 29,
   "metadata": {},
   "outputs": [],
   "source": [
    "test_json = json.dumps({ 'E0000' : dict_test } )"
   ]
  },
  {
   "cell_type": "code",
   "execution_count": 30,
   "metadata": {},
   "outputs": [
    {
     "data": {
      "text/plain": [
       "'{\"E0000\": {\"E0000\": {\"Agent\": [], \"Action\": [\"\\\\u0e2a\\\\u0e2d\\\\u0e1a\\\\u0e16\\\\u0e32\\\\u0e21\", \"\\\\u0e15\\\\u0e34\\\\u0e14\\\\u0e15\\\\u0e31\\\\u0e49\\\\u0e07\", \"\\\\u0e04\\\\u0e23\\\\u0e31\\\\u0e1a\", \"\\\\u0e21\\\\u0e35\"], \"Theme\": [\"\\\\u0e02\\\\u0e2d\\\\u0e2d\\\\u0e19\\\\u0e38\\\\u0e0d\\\\u0e32\\\\u0e15\", \"\\\\u0e40\\\\u0e23\\\\u0e37\\\\u0e48\\\\u0e2d\\\\u0e07\", \"\\\\u0e2b\\\\u0e21\\\\u0e49\\\\u0e2d\\\\u0e41\\\\u0e1b\\\\u0e25\\\\u0e07\", \"\\\\u0e2b\\\\u0e19\\\\u0e48\\\\u0e2d\\\\u0e22\", \"\\\\u0e07\\\\u0e32\\\\u0e19\\\\u0e40\\\\u0e25\\\\u0e35\\\\u0e49\\\\u0e22\\\\u0e07\\\\u0e14\\\\u0e48\\\\u0e27\\\\u0e19\"], \"Location\": [\"\\\\u0e08\\\\u0e31\\\\u0e07\\\\u0e2b\\\\u0e27\\\\u0e31\\\\u0e14\\\\u0e19\\\\u0e19\\\\u0e17\\\\u0e1a\\\\u0e38\\\\u0e23\\\\u0e35\"], \"Temporal\": [\"\\\\u0e1e\\\\u0e23\\\\u0e38\\\\u0e48\\\\u0e07\\\\u0e19\\\\u0e35\\\\u0e49\"], \"Timestamp\": [\"2020-05-20\"]}}}'"
      ]
     },
     "execution_count": 30,
     "metadata": {},
     "output_type": "execute_result"
    }
   ],
   "source": [
    "test_json"
   ]
  },
  {
   "cell_type": "code",
   "execution_count": 31,
   "metadata": {},
   "outputs": [
    {
     "name": "stdout",
     "output_type": "stream",
     "text": [
      "{'E0000': {'E0000': {'Agent': [], 'Action': ['สอบถาม', 'ติดตั้ง', 'ครับ', 'มี'], 'Theme': ['ขออนุญาต', 'เรื่อง', 'หม้อแปลง', 'หน่อย', 'งานเลี้ยงด่วน'], 'Location': ['จังหวัดนนทบุรี'], 'Temporal': ['พรุ่งนี้'], 'Timestamp': ['2020-05-20']}}}\n",
      "<class 'dict'>\n"
     ]
    }
   ],
   "source": [
    "#JSON to dictionary\n",
    "d = json.loads(test_json)\n",
    "print(d)\n",
    "print(type(d))"
   ]
  },
  {
   "cell_type": "code",
   "execution_count": 32,
   "metadata": {},
   "outputs": [
    {
     "data": {
      "text/plain": [
       "{'E0000': {'Agent': [],\n",
       "  'Action': ['สอบถาม', 'ติดตั้ง', 'ครับ', 'มี'],\n",
       "  'Theme': ['ขออนุญาต', 'เรื่อง', 'หม้อแปลง', 'หน่อย', 'งานเลี้ยงด่วน'],\n",
       "  'Location': ['จังหวัดนนทบุรี'],\n",
       "  'Temporal': ['พรุ่งนี้'],\n",
       "  'Timestamp': ['2020-05-20']}}"
      ]
     },
     "execution_count": 32,
     "metadata": {},
     "output_type": "execute_result"
    }
   ],
   "source": [
    "d['E0000']"
   ]
  },
  {
   "cell_type": "code",
   "execution_count": 33,
   "metadata": {},
   "outputs": [],
   "source": [
    "with open('json_recored_file.txt', 'w') as outfile:\n",
    "    json.dump(test_json, outfile)"
   ]
  },
  {
   "cell_type": "code",
   "execution_count": 37,
   "metadata": {},
   "outputs": [
    {
     "ename": "TypeError",
     "evalue": "the JSON object must be str, bytes or bytearray, not dict",
     "output_type": "error",
     "traceback": [
      "\u001b[1;31m---------------------------------------------------------------------------\u001b[0m",
      "\u001b[1;31mTypeError\u001b[0m                                 Traceback (most recent call last)",
      "\u001b[1;32m<ipython-input-37-eb1eadb36f48>\u001b[0m in \u001b[0;36m<module>\u001b[1;34m\u001b[0m\n\u001b[0;32m      1\u001b[0m \u001b[1;32mwith\u001b[0m \u001b[0mopen\u001b[0m\u001b[1;33m(\u001b[0m\u001b[1;34m'json_recored_file.txt'\u001b[0m\u001b[1;33m)\u001b[0m \u001b[1;32mas\u001b[0m \u001b[0mjson_file\u001b[0m\u001b[1;33m:\u001b[0m\u001b[1;33m\u001b[0m\u001b[1;33m\u001b[0m\u001b[0m\n\u001b[0;32m      2\u001b[0m     \u001b[0mtest_json\u001b[0m\u001b[1;33m=\u001b[0m \u001b[0mjson\u001b[0m\u001b[1;33m.\u001b[0m\u001b[0mload\u001b[0m\u001b[1;33m(\u001b[0m\u001b[0mjson_file\u001b[0m\u001b[1;33m)\u001b[0m\u001b[1;33m\u001b[0m\u001b[1;33m\u001b[0m\u001b[0m\n\u001b[1;32m----> 3\u001b[1;33m     \u001b[0md\u001b[0m \u001b[1;33m=\u001b[0m \u001b[0mjson\u001b[0m\u001b[1;33m.\u001b[0m\u001b[0mloads\u001b[0m\u001b[1;33m(\u001b[0m\u001b[0mtest_json\u001b[0m\u001b[1;33m)\u001b[0m\u001b[1;33m\u001b[0m\u001b[1;33m\u001b[0m\u001b[0m\n\u001b[0m\u001b[0;32m      4\u001b[0m     \u001b[0mprint\u001b[0m\u001b[1;33m(\u001b[0m\u001b[0md\u001b[0m\u001b[1;33m)\u001b[0m\u001b[1;33m\u001b[0m\u001b[1;33m\u001b[0m\u001b[0m\n",
      "\u001b[1;32mC:\\ProgramData\\Anaconda3\\lib\\json\\__init__.py\u001b[0m in \u001b[0;36mloads\u001b[1;34m(s, encoding, cls, object_hook, parse_float, parse_int, parse_constant, object_pairs_hook, **kw)\u001b[0m\n\u001b[0;32m    339\u001b[0m     \u001b[1;32melse\u001b[0m\u001b[1;33m:\u001b[0m\u001b[1;33m\u001b[0m\u001b[1;33m\u001b[0m\u001b[0m\n\u001b[0;32m    340\u001b[0m         \u001b[1;32mif\u001b[0m \u001b[1;32mnot\u001b[0m \u001b[0misinstance\u001b[0m\u001b[1;33m(\u001b[0m\u001b[0ms\u001b[0m\u001b[1;33m,\u001b[0m \u001b[1;33m(\u001b[0m\u001b[0mbytes\u001b[0m\u001b[1;33m,\u001b[0m \u001b[0mbytearray\u001b[0m\u001b[1;33m)\u001b[0m\u001b[1;33m)\u001b[0m\u001b[1;33m:\u001b[0m\u001b[1;33m\u001b[0m\u001b[1;33m\u001b[0m\u001b[0m\n\u001b[1;32m--> 341\u001b[1;33m             raise TypeError(f'the JSON object must be str, bytes or bytearray, '\n\u001b[0m\u001b[0;32m    342\u001b[0m                             f'not {s.__class__.__name__}')\n\u001b[0;32m    343\u001b[0m         \u001b[0ms\u001b[0m \u001b[1;33m=\u001b[0m \u001b[0ms\u001b[0m\u001b[1;33m.\u001b[0m\u001b[0mdecode\u001b[0m\u001b[1;33m(\u001b[0m\u001b[0mdetect_encoding\u001b[0m\u001b[1;33m(\u001b[0m\u001b[0ms\u001b[0m\u001b[1;33m)\u001b[0m\u001b[1;33m,\u001b[0m \u001b[1;34m'surrogatepass'\u001b[0m\u001b[1;33m)\u001b[0m\u001b[1;33m\u001b[0m\u001b[1;33m\u001b[0m\u001b[0m\n",
      "\u001b[1;31mTypeError\u001b[0m: the JSON object must be str, bytes or bytearray, not dict"
     ]
    }
   ],
   "source": [
    "with open('json_recored_file.txt') as json_file:\n",
    "    test_json= json.load(json_file)\n",
    "    d = json.loads(test_json)\n",
    "    print(d)"
   ]
  },
  {
   "cell_type": "code",
   "execution_count": 13,
   "metadata": {},
   "outputs": [
    {
     "data": {
      "text/plain": [
       "{'Agent': [],\n",
       " 'Action': ['สอบถาม', 'ติดตั้ง', 'ครับ', 'มี'],\n",
       " 'Theme': ['ขออนุญาต', 'เรื่อง', 'หม้อแปลง', 'หน่อย', 'งานเลี้ยงด่วน'],\n",
       " 'Location': ['จังหวัดนนทบุรี'],\n",
       " 'Temporal': ['พรุ่งนี้'],\n",
       " 'Timestamp': ['2020-05-20']}"
      ]
     },
     "execution_count": 13,
     "metadata": {},
     "output_type": "execute_result"
    }
   ],
   "source": [
    "#last key\n",
    "d[ sorted(d.keys())[-1] ]"
   ]
  },
  {
   "cell_type": "code",
   "execution_count": 20,
   "metadata": {},
   "outputs": [],
   "source": [
    "c = sorted(d.keys())[-1] "
   ]
  },
  {
   "cell_type": "code",
   "execution_count": 22,
   "metadata": {},
   "outputs": [],
   "source": [
    "c_2 = int( '1'+c[1:]  )"
   ]
  },
  {
   "cell_type": "code",
   "execution_count": 23,
   "metadata": {},
   "outputs": [
    {
     "data": {
      "text/plain": [
       "10000"
      ]
     },
     "execution_count": 23,
     "metadata": {},
     "output_type": "execute_result"
    }
   ],
   "source": [
    "c_2"
   ]
  },
  {
   "cell_type": "code",
   "execution_count": 25,
   "metadata": {},
   "outputs": [
    {
     "data": {
      "text/plain": [
       "{'Agent': [],\n",
       " 'Action': ['สอบถาม', 'ติดตั้ง', 'ครับ', 'มี'],\n",
       " 'Theme': ['ขออนุญาต', 'เรื่อง', 'หม้อแปลง', 'หน่อย', 'งานเลี้ยงด่วน'],\n",
       " 'Location': ['จังหวัดนนทบุรี'],\n",
       " 'Temporal': ['พรุ่งนี้'],\n",
       " 'Timestamp': ['2020-05-20']}"
      ]
     },
     "execution_count": 25,
     "metadata": {},
     "output_type": "execute_result"
    }
   ],
   "source": [
    "d['E0000']"
   ]
  },
  {
   "cell_type": "code",
   "execution_count": 26,
   "metadata": {},
   "outputs": [
    {
     "data": {
      "text/plain": [
       "'E0000'"
      ]
     },
     "execution_count": 26,
     "metadata": {},
     "output_type": "execute_result"
    }
   ],
   "source": [
    "sorted( d.keys())[-1]"
   ]
  },
  {
   "cell_type": "code",
   "execution_count": 7,
   "metadata": {},
   "outputs": [],
   "source": [
    "NLP_TH_PEA.clear_file() "
   ]
  },
  {
   "cell_type": "code",
   "execution_count": 14,
   "metadata": {},
   "outputs": [
    {
     "name": "stdout",
     "output_type": "stream",
     "text": [
      "<class 'str'>  :  {\"E0000\": {\"Agent\": [], \"Action\": [], \"Theme\": [], \"Location\": [], \"Temporal\": [], \"Timestamp\": []}}\n",
      "<class 'dict'>  :  {'E0000': {'Agent': [], 'Action': [], 'Theme': [], 'Location': [], 'Temporal': [], 'Timestamp': []}}\n"
     ]
    }
   ],
   "source": [
    "d1 = NLP_TH_PEA.get_previous_recorded ()"
   ]
  },
  {
   "cell_type": "code",
   "execution_count": 15,
   "metadata": {},
   "outputs": [
    {
     "data": {
      "text/plain": [
       "'E0000'"
      ]
     },
     "execution_count": 15,
     "metadata": {},
     "output_type": "execute_result"
    }
   ],
   "source": [
    "NLP_TH_PEA.getEvent(d1)"
   ]
  },
  {
   "cell_type": "code",
   "execution_count": 24,
   "metadata": {},
   "outputs": [],
   "source": [
    "\n",
    "d2 = { NLP_TH_PEA.updateEvent(): NLP_TH_PEA.getCurrentDict ()}"
   ]
  },
  {
   "cell_type": "code",
   "execution_count": 25,
   "metadata": {},
   "outputs": [
    {
     "data": {
      "text/plain": [
       "{'E0001': {'Agent': [],\n",
       "  'Action': ['สอบถาม', 'ติดตั้ง', 'ครับ', 'มี'],\n",
       "  'Theme': ['ขออนุญาต', 'เรื่อง', 'หม้อแปลง', 'หน่อย', 'งานเลี้ยงด่วน'],\n",
       "  'Location': ['จังหวัดนนทบุรี'],\n",
       "  'Temporal': ['พรุ่งนี้'],\n",
       "  'Timestamp': ['2020-05-20']}}"
      ]
     },
     "execution_count": 25,
     "metadata": {},
     "output_type": "execute_result"
    }
   ],
   "source": [
    "d2"
   ]
  },
  {
   "cell_type": "code",
   "execution_count": 26,
   "metadata": {},
   "outputs": [],
   "source": [
    "d1.update(d2)"
   ]
  },
  {
   "cell_type": "code",
   "execution_count": 27,
   "metadata": {},
   "outputs": [
    {
     "data": {
      "text/plain": [
       "{'E0000': {'Agent': [],\n",
       "  'Action': [],\n",
       "  'Theme': [],\n",
       "  'Location': [],\n",
       "  'Temporal': [],\n",
       "  'Timestamp': []},\n",
       " 'E0001': {'Agent': [],\n",
       "  'Action': ['สอบถาม', 'ติดตั้ง', 'ครับ', 'มี'],\n",
       "  'Theme': ['ขออนุญาต', 'เรื่อง', 'หม้อแปลง', 'หน่อย', 'งานเลี้ยงด่วน'],\n",
       "  'Location': ['จังหวัดนนทบุรี'],\n",
       "  'Temporal': ['พรุ่งนี้'],\n",
       "  'Timestamp': ['2020-05-20']}}"
      ]
     },
     "execution_count": 27,
     "metadata": {},
     "output_type": "execute_result"
    }
   ],
   "source": [
    "d1"
   ]
  },
  {
   "cell_type": "code",
   "execution_count": 30,
   "metadata": {},
   "outputs": [],
   "source": [
    "d2 = { NLP_TH_PEA.updateEvent(): NLP_TH_PEA.getCurrentDict ()}\n",
    "d1.update(d2)"
   ]
  },
  {
   "cell_type": "code",
   "execution_count": 31,
   "metadata": {},
   "outputs": [
    {
     "data": {
      "text/plain": [
       "{'E0000': {'Agent': [],\n",
       "  'Action': [],\n",
       "  'Theme': [],\n",
       "  'Location': [],\n",
       "  'Temporal': [],\n",
       "  'Timestamp': []},\n",
       " 'E0001': {'Agent': [],\n",
       "  'Action': ['สอบถาม', 'ติดตั้ง', 'ครับ', 'มี'],\n",
       "  'Theme': ['ขออนุญาต', 'เรื่อง', 'หม้อแปลง', 'หน่อย', 'งานเลี้ยงด่วน'],\n",
       "  'Location': ['จังหวัดนนทบุรี'],\n",
       "  'Temporal': ['พรุ่งนี้'],\n",
       "  'Timestamp': ['2020-05-20']}}"
      ]
     },
     "execution_count": 31,
     "metadata": {},
     "output_type": "execute_result"
    }
   ],
   "source": [
    "d1"
   ]
  },
  {
   "cell_type": "code",
   "execution_count": 75,
   "metadata": {},
   "outputs": [
    {
     "name": "stdout",
     "output_type": "stream",
     "text": [
      "{\"0\": {\"name\": \"John\", \"age\": 30, \"city\": \"New York\"}}\n"
     ]
    }
   ],
   "source": [
    "import json\n",
    "\n",
    "# a Python object (dict):\n",
    "x = {0: {\n",
    "  \"name\": \"John\",\n",
    "  \"age\": 30,\n",
    "  \"city\": \"New York\"\n",
    "}}\n",
    "\n",
    "# convert into JSON:\n",
    "y = json.dumps(x)\n",
    "\n",
    "# the result is a JSON string:\n",
    "print(y)"
   ]
  },
  {
   "cell_type": "code",
   "execution_count": 76,
   "metadata": {},
   "outputs": [],
   "source": [
    "x2 ={1: {\n",
    "  \"name\": \"John\",\n",
    "  \"age\": 30,\n",
    "  \"city\": \"New York\"\n",
    "}}\n"
   ]
  },
  {
   "cell_type": "code",
   "execution_count": 77,
   "metadata": {},
   "outputs": [],
   "source": [
    "x.update(x2)"
   ]
  },
  {
   "cell_type": "code",
   "execution_count": 78,
   "metadata": {},
   "outputs": [
    {
     "data": {
      "text/plain": [
       "{0: {'name': 'John', 'age': 30, 'city': 'New York'},\n",
       " 1: {'name': 'John', 'age': 30, 'city': 'New York'}}"
      ]
     },
     "execution_count": 78,
     "metadata": {},
     "output_type": "execute_result"
    }
   ],
   "source": [
    "x"
   ]
  },
  {
   "cell_type": "code",
   "execution_count": 79,
   "metadata": {},
   "outputs": [],
   "source": [
    "x2 ={3: {\n",
    "  \"name\": \"John\",\n",
    "  \"age\": 30,\n",
    "  \"city\": \"New York\"\n",
    "}}\n"
   ]
  },
  {
   "cell_type": "code",
   "execution_count": 80,
   "metadata": {},
   "outputs": [],
   "source": [
    "x.update(x2)\n"
   ]
  },
  {
   "cell_type": "code",
   "execution_count": 81,
   "metadata": {},
   "outputs": [
    {
     "data": {
      "text/plain": [
       "{0: {'name': 'John', 'age': 30, 'city': 'New York'},\n",
       " 1: {'name': 'John', 'age': 30, 'city': 'New York'},\n",
       " 3: {'name': 'John', 'age': 30, 'city': 'New York'}}"
      ]
     },
     "execution_count": 81,
     "metadata": {},
     "output_type": "execute_result"
    }
   ],
   "source": [
    "x"
   ]
  },
  {
   "cell_type": "code",
   "execution_count": 82,
   "metadata": {},
   "outputs": [
    {
     "name": "stdout",
     "output_type": "stream",
     "text": [
      "{\"0\": {\"name\": \"John\", \"age\": 30, \"city\": \"New York\"}, \"1\": {\"name\": \"John\", \"age\": 30, \"city\": \"New York\"}, \"3\": {\"name\": \"John\", \"age\": 30, \"city\": \"New York\"}}\n"
     ]
    }
   ],
   "source": [
    "# convert into JSON:\n",
    "y = json.dumps(x)\n",
    "\n",
    "# the result is a JSON string:\n",
    "print(y)"
   ]
  },
  {
   "cell_type": "code",
   "execution_count": 83,
   "metadata": {},
   "outputs": [],
   "source": [
    "with open( 'test.txt', 'w') as outfile:\n",
    "    json.dump(y , outfile)\n",
    "\n",
    "  "
   ]
  },
  {
   "cell_type": "code",
   "execution_count": 15,
   "metadata": {},
   "outputs": [],
   "source": [
    "import json\n",
    "txt_path = 'json_recored_file.txt'\n",
    "data = {}\n",
    "data['people'] = []\n",
    "data['people'].append({\n",
    "    'name': 'Scott',\n",
    "    'website': 'stackabuse.com',\n",
    "    'from': 'Nebraska'\n",
    "})\n",
    "data['people'].append({\n",
    "    'name': 'Larry',\n",
    "    'website': 'google.com',\n",
    "    'from': 'Michigan'\n",
    "})\n",
    "data['people'].append({\n",
    "    'name': 'Tim',\n",
    "    'website': 'apple.com',\n",
    "    'from': 'Alabama'\n",
    "})\n",
    "\n",
    "with open(txt_path , 'w') as outfile:\n",
    "    json.dump(data, outfile)"
   ]
  },
  {
   "cell_type": "code",
   "execution_count": 16,
   "metadata": {},
   "outputs": [
    {
     "name": "stdout",
     "output_type": "stream",
     "text": [
      "Name: Scott\n",
      "Website: stackabuse.com\n",
      "From: Nebraska\n",
      "\n",
      "Name: Larry\n",
      "Website: google.com\n",
      "From: Michigan\n",
      "\n",
      "Name: Tim\n",
      "Website: apple.com\n",
      "From: Alabama\n",
      "\n"
     ]
    }
   ],
   "source": [
    "import json\n",
    "\n",
    "with open(txt_path ) as json_file:\n",
    "    data = json.load(json_file)\n",
    "    for p in data['people']:\n",
    "        print('Name: ' + p['name'])\n",
    "        print('Website: ' + p['website'])\n",
    "        print('From: ' + p['from'])\n",
    "        print('')"
   ]
  },
  {
   "cell_type": "code",
   "execution_count": 12,
   "metadata": {},
   "outputs": [
    {
     "data": {
      "text/plain": [
       "{'people': [{'name': 'Scott', 'website': 'stackabuse.com', 'from': 'Nebraska'},\n",
       "  {'name': 'Larry', 'website': 'google.com', 'from': 'Michigan'},\n",
       "  {'name': 'Tim', 'website': 'apple.com', 'from': 'Alabama'}]}"
      ]
     },
     "execution_count": 12,
     "metadata": {},
     "output_type": "execute_result"
    }
   ],
   "source": [
    "data"
   ]
  },
  {
   "cell_type": "code",
   "execution_count": null,
   "metadata": {},
   "outputs": [],
   "source": []
  }
 ],
 "metadata": {
  "kernelspec": {
   "display_name": "Python 3",
   "language": "python",
   "name": "python3"
  },
  "language_info": {
   "codemirror_mode": {
    "name": "ipython",
    "version": 3
   },
   "file_extension": ".py",
   "mimetype": "text/x-python",
   "name": "python",
   "nbconvert_exporter": "python",
   "pygments_lexer": "ipython3",
   "version": "3.7.4"
  },
  "toc": {
   "base_numbering": 1,
   "nav_menu": {},
   "number_sections": true,
   "sideBar": true,
   "skip_h1_title": false,
   "title_cell": "Table of Contents",
   "title_sidebar": "Contents",
   "toc_cell": false,
   "toc_position": {},
   "toc_section_display": true,
   "toc_window_display": false
  }
 },
 "nbformat": 4,
 "nbformat_minor": 2
}
